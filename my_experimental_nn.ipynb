{
 "cells": [
  {
   "cell_type": "code",
   "execution_count": 101,
   "id": "169fa39f-9f19-4f17-abe8-a448485e97e5",
   "metadata": {},
   "outputs": [
    {
     "name": "stdout",
     "output_type": "stream",
     "text": [
      "Package                   Version\n",
      "------------------------- ----------------\n",
      "ansible-base              2.10.8\n",
      "anyio                     4.9.0\n",
      "apache-libcloud           3.2.0\n",
      "argcomplete               1.8.1\n",
      "argon2-cffi               23.1.0\n",
      "argon2-cffi-bindings      21.2.0\n",
      "arrow                     1.3.0\n",
      "asttokens                 3.0.0\n",
      "async-lru                 2.0.5\n",
      "attrs                     25.3.0\n",
      "Automat                   20.2.0\n",
      "babel                     2.17.0\n",
      "bcrypt                    3.2.0\n",
      "beautifulsoup4            4.13.3\n",
      "bleach                    6.2.0\n",
      "blinker                   1.4\n",
      "certifi                   2020.6.20\n",
      "cffi                      1.17.1\n",
      "chardet                   4.0.0\n",
      "charset-normalizer        3.4.1\n",
      "click                     8.0.3\n",
      "cloud-init                24.4\n",
      "colorama                  0.4.4\n",
      "comm                      0.2.2\n",
      "command-not-found         0.3\n",
      "configobj                 5.0.6\n",
      "constantly                15.1.0\n",
      "cryptography              3.4.8\n",
      "dbus-python               1.2.18\n",
      "debugpy                   1.8.13\n",
      "decorator                 5.1.1\n",
      "defusedxml                0.7.1\n",
      "devscripts                2.22.1ubuntu1\n",
      "distro                    1.7.0\n",
      "distro-info               1.1+ubuntu0.2\n",
      "dnspython                 2.1.0\n",
      "exceptiongroup            1.2.2\n",
      "executing                 2.2.0\n",
      "fastjsonschema            2.21.1\n",
      "filelock                  3.18.0\n",
      "fqdn                      1.5.1\n",
      "fsspec                    2025.3.0\n",
      "gpg                       1.16.0\n",
      "gyp                       0.1\n",
      "h11                       0.14.0\n",
      "httpcore                  1.0.7\n",
      "httplib2                  0.20.2\n",
      "httpx                     0.28.1\n",
      "hyperlink                 21.0.0\n",
      "idna                      3.3\n",
      "importlib-metadata        4.6.4\n",
      "incremental               21.3.0\n",
      "ipykernel                 6.29.5\n",
      "ipython                   8.34.0\n",
      "ipywidgets                8.1.5\n",
      "isoduration               20.11.0\n",
      "jedi                      0.19.2\n",
      "jeepney                   0.7.1\n",
      "Jinja2                    3.0.3\n",
      "jmespath                  0.10.0\n",
      "json5                     0.10.0\n",
      "jsonpatch                 1.32\n",
      "jsonpath-rw               1.4.0\n",
      "jsonpointer               2.0\n",
      "jsonschema                4.23.0\n",
      "jsonschema-specifications 2024.10.1\n",
      "jupyter                   1.1.1\n",
      "jupyter_client            8.6.3\n",
      "jupyter-console           6.6.3\n",
      "jupyter_core              5.7.2\n",
      "jupyter-events            0.12.0\n",
      "jupyter-lsp               2.2.5\n",
      "jupyter_server            2.15.0\n",
      "jupyter_server_terminals  0.5.3\n",
      "jupyterlab                4.3.6\n",
      "jupyterlab_pygments       0.3.0\n",
      "jupyterlab_server         2.27.3\n",
      "jupyterlab_widgets        3.0.13\n",
      "keyring                   23.5.0\n",
      "launchpadlib              1.10.16\n",
      "lazr.restfulclient        0.14.4\n",
      "lazr.uri                  1.0.6\n",
      "lockfile                  0.12.2\n",
      "MarkupSafe                2.0.1\n",
      "matplotlib-inline         0.1.7\n",
      "mistune                   3.1.2\n",
      "more-itertools            8.10.0\n",
      "mpmath                    1.3.0\n",
      "nbclient                  0.10.2\n",
      "nbconvert                 7.16.6\n",
      "nbformat                  5.10.4\n",
      "nest-asyncio              1.6.0\n",
      "netaddr                   0.8.0\n",
      "netifaces                 0.11.0\n",
      "networkx                  3.4.2\n",
      "notebook                  7.3.3\n",
      "notebook_shim             0.2.4\n",
      "ntlm-auth                 1.4.0\n",
      "numpy                     2.2.4\n",
      "nvidia-cublas-cu11        11.11.3.6\n",
      "nvidia-cuda-cupti-cu11    11.8.87\n",
      "nvidia-cuda-nvrtc-cu11    11.8.89\n",
      "nvidia-cuda-runtime-cu11  11.8.89\n",
      "nvidia-cudnn-cu11         9.1.0.70\n",
      "nvidia-cufft-cu11         10.9.0.58\n",
      "nvidia-curand-cu11        10.3.0.86\n",
      "nvidia-cusolver-cu11      11.4.1.48\n",
      "nvidia-cusparse-cu11      11.7.5.86\n",
      "nvidia-nccl-cu11          2.21.5\n",
      "nvidia-nvtx-cu11          11.8.86\n",
      "oauthlib                  3.2.0\n",
      "overrides                 7.7.0\n",
      "packaging                 24.2\n",
      "pandocfilters             1.5.1\n",
      "parso                     0.8.4\n",
      "pexpect                   4.8.0\n",
      "pillow                    11.1.0\n",
      "pip                       22.0.2\n",
      "platformdirs              4.3.6\n",
      "ply                       3.11\n",
      "prometheus_client         0.21.1\n",
      "prompt_toolkit            3.0.50\n",
      "psutil                    7.0.0\n",
      "ptyprocess                0.7.0\n",
      "pure_eval                 0.2.3\n",
      "pyasn1                    0.4.8\n",
      "pyasn1-modules            0.2.1\n",
      "pycparser                 2.22\n",
      "pycryptodomex             3.11.0\n",
      "Pygments                  2.19.1\n",
      "PyGObject                 3.42.1\n",
      "PyHamcrest                2.0.2\n",
      "PyJWT                     2.3.0\n",
      "pykerberos                1.1.14\n",
      "pyOpenSSL                 21.0.0\n",
      "pyparsing                 2.4.7\n",
      "pyrsistent                0.18.1\n",
      "pyserial                  3.5\n",
      "python-apt                2.4.0+ubuntu4\n",
      "python-dateutil           2.9.0.post0\n",
      "python-debian             0.1.43+ubuntu1.1\n",
      "python-json-logger        3.3.0\n",
      "python-magic              0.4.24\n",
      "pytz                      2022.1\n",
      "pywinrm                   0.3.0\n",
      "pyxdg                     0.27\n",
      "PyYAML                    5.4.1\n",
      "pyzmq                     26.3.0\n",
      "redfish                   3.2.5\n",
      "redfish_utilities         3.3.5\n",
      "referencing               0.36.2\n",
      "requests                  2.32.3\n",
      "requests-kerberos         0.12.0\n",
      "requests-ntlm             1.1.0\n",
      "requests-toolbelt         0.9.1\n",
      "requests-unixsocket       0.3.0\n",
      "rfc3339-validator         0.1.4\n",
      "rfc3986-validator         0.1.1\n",
      "rpds-py                   0.23.1\n",
      "screen-resolution-extra   0.0.0\n",
      "SecretStorage             3.3.1\n",
      "selinux                   3.3\n",
      "Send2Trash                1.8.3\n",
      "service-identity          18.1.0\n",
      "setuptools                59.6.0\n",
      "simplejson                3.17.6\n",
      "six                       1.16.0\n",
      "sniffio                   1.3.1\n",
      "sos                       4.7.2\n",
      "soupsieve                 2.6\n",
      "ssh-import-id             5.11\n",
      "stack-data                0.6.3\n",
      "sympy                     1.13.1\n",
      "systemd-python            234\n",
      "terminado                 0.18.1\n",
      "tinycss2                  1.4.0\n",
      "tomli                     2.2.1\n",
      "tornado                   6.4.2\n",
      "traitlets                 5.14.3\n",
      "triton                    3.2.0\n",
      "Twisted                   22.1.0\n",
      "types-python-dateutil     2.9.0.20241206\n",
      "typing_extensions         4.12.2\n",
      "ubuntu-drivers-common     0.0.0\n",
      "ubuntu-pro-client         8001\n",
      "ufw                       0.36.1\n",
      "unattended-upgrades       0.1\n",
      "unidiff                   0.5.5\n",
      "uri-template              1.3.0\n",
      "urllib3                   1.26.5\n",
      "wadllib                   1.3.6\n",
      "wcwidth                   0.2.13\n",
      "webcolors                 24.11.1\n",
      "webencodings              0.5.1\n",
      "websocket-client          1.8.0\n",
      "wheel                     0.37.1\n",
      "widgetsnbextension        4.0.13\n",
      "xdg                       5\n",
      "xkit                      0.0.0\n",
      "XlsxWriter                3.2.0\n",
      "xmltodict                 0.12.0\n",
      "zipp                      1.0.0\n",
      "zope.interface            5.4.0\n"
     ]
    }
   ],
   "source": [
    "!pip list"
   ]
  },
  {
   "cell_type": "code",
   "execution_count": 1,
   "id": "532febbd-caac-447e-a9a0-6a05337fd0ca",
   "metadata": {},
   "outputs": [],
   "source": [
    "import torch\n",
    "import torch.nn as nn\n",
    "import torch.nn.functional as F"
   ]
  },
  {
   "cell_type": "code",
   "execution_count": 83,
   "id": "38e22255-d8b2-4e65-9ab7-cebadf154f18",
   "metadata": {},
   "outputs": [],
   "source": [
    "# Create a Model Class that inherits nn.Module\n",
    "class Model(nn.Module):\n",
    "  # Input layer (4 features of the flower) -->\n",
    "  # Hidden Layer1 (number of neurons) -->\n",
    "  # H2 (n) -->\n",
    "  # output (3 classes of iris flowers)\n",
    "  def __init__(self, in_features=4, h1=8, h2=8, h3=8, out_features=3):\n",
    "    super().__init__() # instantiate our nn.Module\n",
    "    self.fc1 = nn.Linear(in_features, h1)\n",
    "    self.fc2 = nn.Linear(h1, h2)\n",
    "    self.fc3 = nn.Linear(h2, h3)\n",
    "    self.out = nn.Linear(h3, out_features)\n",
    "\n",
    "  def forward(self, x):\n",
    "    x = F.relu(self.fc1(x))\n",
    "    x = F.relu(self.fc2(x))\n",
    "    x = F.relu(self.fc3(x))\n",
    "    x = self.out(x)\n",
    "\n",
    "    return x"
   ]
  },
  {
   "cell_type": "code",
   "execution_count": 84,
   "id": "8e7f36a2-bd83-43a6-abe0-6e60484600b6",
   "metadata": {},
   "outputs": [],
   "source": [
    "# Pick a manual seed for randomization\n",
    "torch.manual_seed(41)\n",
    "\n",
    "# Create an instance of model\n",
    "model = Model()"
   ]
  },
  {
   "cell_type": "code",
   "execution_count": 85,
   "id": "597d54d3-a381-44a5-aed0-c8f03b005fa6",
   "metadata": {},
   "outputs": [],
   "source": [
    "import numpy as np\n",
    "import pandas as pd\n",
    "import matplotlib.pyplot as plt\n",
    "%matplotlib inline"
   ]
  },
  {
   "cell_type": "code",
   "execution_count": 86,
   "id": "9dfe4634-b1fe-407c-a033-5fdd9078ea81",
   "metadata": {},
   "outputs": [],
   "source": [
    "url = 'https://gist.githubusercontent.com/netj/8836201/raw/6f9306ad21398ea43cba4f7d537619d0e07d5ae3/iris.csv'\n",
    "#url='https://gist.githubusercontent.com/curran/a08a1080b88344b0c8a7/raw/0e7a9b0a5d22642a06d3d5b9bcbad9890c8ee534/iris.csv'\n",
    "my_df = pd.read_csv(url)"
   ]
  },
  {
   "cell_type": "code",
   "execution_count": 87,
   "id": "4cf3a96c-c5ab-4c16-9c22-06310bfe47f2",
   "metadata": {},
   "outputs": [
    {
     "data": {
      "text/html": [
       "<div>\n",
       "<style scoped>\n",
       "    .dataframe tbody tr th:only-of-type {\n",
       "        vertical-align: middle;\n",
       "    }\n",
       "\n",
       "    .dataframe tbody tr th {\n",
       "        vertical-align: top;\n",
       "    }\n",
       "\n",
       "    .dataframe thead th {\n",
       "        text-align: right;\n",
       "    }\n",
       "</style>\n",
       "<table border=\"1\" class=\"dataframe\">\n",
       "  <thead>\n",
       "    <tr style=\"text-align: right;\">\n",
       "      <th></th>\n",
       "      <th>sepal.length</th>\n",
       "      <th>sepal.width</th>\n",
       "      <th>petal.length</th>\n",
       "      <th>petal.width</th>\n",
       "      <th>variety</th>\n",
       "    </tr>\n",
       "  </thead>\n",
       "  <tbody>\n",
       "    <tr>\n",
       "      <th>0</th>\n",
       "      <td>5.1</td>\n",
       "      <td>3.5</td>\n",
       "      <td>1.4</td>\n",
       "      <td>0.2</td>\n",
       "      <td>Setosa</td>\n",
       "    </tr>\n",
       "    <tr>\n",
       "      <th>1</th>\n",
       "      <td>4.9</td>\n",
       "      <td>3.0</td>\n",
       "      <td>1.4</td>\n",
       "      <td>0.2</td>\n",
       "      <td>Setosa</td>\n",
       "    </tr>\n",
       "    <tr>\n",
       "      <th>2</th>\n",
       "      <td>4.7</td>\n",
       "      <td>3.2</td>\n",
       "      <td>1.3</td>\n",
       "      <td>0.2</td>\n",
       "      <td>Setosa</td>\n",
       "    </tr>\n",
       "    <tr>\n",
       "      <th>3</th>\n",
       "      <td>4.6</td>\n",
       "      <td>3.1</td>\n",
       "      <td>1.5</td>\n",
       "      <td>0.2</td>\n",
       "      <td>Setosa</td>\n",
       "    </tr>\n",
       "    <tr>\n",
       "      <th>4</th>\n",
       "      <td>5.0</td>\n",
       "      <td>3.6</td>\n",
       "      <td>1.4</td>\n",
       "      <td>0.2</td>\n",
       "      <td>Setosa</td>\n",
       "    </tr>\n",
       "    <tr>\n",
       "      <th>...</th>\n",
       "      <td>...</td>\n",
       "      <td>...</td>\n",
       "      <td>...</td>\n",
       "      <td>...</td>\n",
       "      <td>...</td>\n",
       "    </tr>\n",
       "    <tr>\n",
       "      <th>145</th>\n",
       "      <td>6.7</td>\n",
       "      <td>3.0</td>\n",
       "      <td>5.2</td>\n",
       "      <td>2.3</td>\n",
       "      <td>Virginica</td>\n",
       "    </tr>\n",
       "    <tr>\n",
       "      <th>146</th>\n",
       "      <td>6.3</td>\n",
       "      <td>2.5</td>\n",
       "      <td>5.0</td>\n",
       "      <td>1.9</td>\n",
       "      <td>Virginica</td>\n",
       "    </tr>\n",
       "    <tr>\n",
       "      <th>147</th>\n",
       "      <td>6.5</td>\n",
       "      <td>3.0</td>\n",
       "      <td>5.2</td>\n",
       "      <td>2.0</td>\n",
       "      <td>Virginica</td>\n",
       "    </tr>\n",
       "    <tr>\n",
       "      <th>148</th>\n",
       "      <td>6.2</td>\n",
       "      <td>3.4</td>\n",
       "      <td>5.4</td>\n",
       "      <td>2.3</td>\n",
       "      <td>Virginica</td>\n",
       "    </tr>\n",
       "    <tr>\n",
       "      <th>149</th>\n",
       "      <td>5.9</td>\n",
       "      <td>3.0</td>\n",
       "      <td>5.1</td>\n",
       "      <td>1.8</td>\n",
       "      <td>Virginica</td>\n",
       "    </tr>\n",
       "  </tbody>\n",
       "</table>\n",
       "<p>150 rows × 5 columns</p>\n",
       "</div>"
      ],
      "text/plain": [
       "     sepal.length  sepal.width  petal.length  petal.width    variety\n",
       "0             5.1          3.5           1.4          0.2     Setosa\n",
       "1             4.9          3.0           1.4          0.2     Setosa\n",
       "2             4.7          3.2           1.3          0.2     Setosa\n",
       "3             4.6          3.1           1.5          0.2     Setosa\n",
       "4             5.0          3.6           1.4          0.2     Setosa\n",
       "..            ...          ...           ...          ...        ...\n",
       "145           6.7          3.0           5.2          2.3  Virginica\n",
       "146           6.3          2.5           5.0          1.9  Virginica\n",
       "147           6.5          3.0           5.2          2.0  Virginica\n",
       "148           6.2          3.4           5.4          2.3  Virginica\n",
       "149           5.9          3.0           5.1          1.8  Virginica\n",
       "\n",
       "[150 rows x 5 columns]"
      ]
     },
     "execution_count": 87,
     "metadata": {},
     "output_type": "execute_result"
    }
   ],
   "source": [
    "my_df"
   ]
  },
  {
   "cell_type": "code",
   "execution_count": 88,
   "id": "44f89383-3b06-4145-a884-2cb899c063bc",
   "metadata": {},
   "outputs": [
    {
     "name": "stderr",
     "output_type": "stream",
     "text": [
      "/tmp/ipykernel_50067/2998105502.py:4: FutureWarning: Downcasting behavior in `replace` is deprecated and will be removed in a future version. To retain the old behavior, explicitly call `result.infer_objects(copy=False)`. To opt-in to the future behavior, set `pd.set_option('future.no_silent_downcasting', True)`\n",
      "  my_df['variety'] = my_df['variety'].replace('Virginica', 2)\n"
     ]
    },
    {
     "data": {
      "text/html": [
       "<div>\n",
       "<style scoped>\n",
       "    .dataframe tbody tr th:only-of-type {\n",
       "        vertical-align: middle;\n",
       "    }\n",
       "\n",
       "    .dataframe tbody tr th {\n",
       "        vertical-align: top;\n",
       "    }\n",
       "\n",
       "    .dataframe thead th {\n",
       "        text-align: right;\n",
       "    }\n",
       "</style>\n",
       "<table border=\"1\" class=\"dataframe\">\n",
       "  <thead>\n",
       "    <tr style=\"text-align: right;\">\n",
       "      <th></th>\n",
       "      <th>sepal.length</th>\n",
       "      <th>sepal.width</th>\n",
       "      <th>petal.length</th>\n",
       "      <th>petal.width</th>\n",
       "      <th>variety</th>\n",
       "    </tr>\n",
       "  </thead>\n",
       "  <tbody>\n",
       "    <tr>\n",
       "      <th>0</th>\n",
       "      <td>5.1</td>\n",
       "      <td>3.5</td>\n",
       "      <td>1.4</td>\n",
       "      <td>0.2</td>\n",
       "      <td>0</td>\n",
       "    </tr>\n",
       "    <tr>\n",
       "      <th>1</th>\n",
       "      <td>4.9</td>\n",
       "      <td>3.0</td>\n",
       "      <td>1.4</td>\n",
       "      <td>0.2</td>\n",
       "      <td>0</td>\n",
       "    </tr>\n",
       "    <tr>\n",
       "      <th>2</th>\n",
       "      <td>4.7</td>\n",
       "      <td>3.2</td>\n",
       "      <td>1.3</td>\n",
       "      <td>0.2</td>\n",
       "      <td>0</td>\n",
       "    </tr>\n",
       "    <tr>\n",
       "      <th>3</th>\n",
       "      <td>4.6</td>\n",
       "      <td>3.1</td>\n",
       "      <td>1.5</td>\n",
       "      <td>0.2</td>\n",
       "      <td>0</td>\n",
       "    </tr>\n",
       "    <tr>\n",
       "      <th>4</th>\n",
       "      <td>5.0</td>\n",
       "      <td>3.6</td>\n",
       "      <td>1.4</td>\n",
       "      <td>0.2</td>\n",
       "      <td>0</td>\n",
       "    </tr>\n",
       "    <tr>\n",
       "      <th>...</th>\n",
       "      <td>...</td>\n",
       "      <td>...</td>\n",
       "      <td>...</td>\n",
       "      <td>...</td>\n",
       "      <td>...</td>\n",
       "    </tr>\n",
       "    <tr>\n",
       "      <th>145</th>\n",
       "      <td>6.7</td>\n",
       "      <td>3.0</td>\n",
       "      <td>5.2</td>\n",
       "      <td>2.3</td>\n",
       "      <td>2</td>\n",
       "    </tr>\n",
       "    <tr>\n",
       "      <th>146</th>\n",
       "      <td>6.3</td>\n",
       "      <td>2.5</td>\n",
       "      <td>5.0</td>\n",
       "      <td>1.9</td>\n",
       "      <td>2</td>\n",
       "    </tr>\n",
       "    <tr>\n",
       "      <th>147</th>\n",
       "      <td>6.5</td>\n",
       "      <td>3.0</td>\n",
       "      <td>5.2</td>\n",
       "      <td>2.0</td>\n",
       "      <td>2</td>\n",
       "    </tr>\n",
       "    <tr>\n",
       "      <th>148</th>\n",
       "      <td>6.2</td>\n",
       "      <td>3.4</td>\n",
       "      <td>5.4</td>\n",
       "      <td>2.3</td>\n",
       "      <td>2</td>\n",
       "    </tr>\n",
       "    <tr>\n",
       "      <th>149</th>\n",
       "      <td>5.9</td>\n",
       "      <td>3.0</td>\n",
       "      <td>5.1</td>\n",
       "      <td>1.8</td>\n",
       "      <td>2</td>\n",
       "    </tr>\n",
       "  </tbody>\n",
       "</table>\n",
       "<p>150 rows × 5 columns</p>\n",
       "</div>"
      ],
      "text/plain": [
       "     sepal.length  sepal.width  petal.length  petal.width  variety\n",
       "0             5.1          3.5           1.4          0.2        0\n",
       "1             4.9          3.0           1.4          0.2        0\n",
       "2             4.7          3.2           1.3          0.2        0\n",
       "3             4.6          3.1           1.5          0.2        0\n",
       "4             5.0          3.6           1.4          0.2        0\n",
       "..            ...          ...           ...          ...      ...\n",
       "145           6.7          3.0           5.2          2.3        2\n",
       "146           6.3          2.5           5.0          1.9        2\n",
       "147           6.5          3.0           5.2          2.0        2\n",
       "148           6.2          3.4           5.4          2.3        2\n",
       "149           5.9          3.0           5.1          1.8        2\n",
       "\n",
       "[150 rows x 5 columns]"
      ]
     },
     "execution_count": 88,
     "metadata": {},
     "output_type": "execute_result"
    }
   ],
   "source": [
    "# Change last column from strings to integers\n",
    "my_df['variety'] = my_df['variety'].replace('Setosa', 0)\n",
    "my_df['variety'] = my_df['variety'].replace('Versicolor', 1)\n",
    "my_df['variety'] = my_df['variety'].replace('Virginica', 2)\n",
    "my_df"
   ]
  },
  {
   "cell_type": "code",
   "execution_count": 89,
   "id": "3bccf4bf-c133-42cb-8ea9-a16760a582d4",
   "metadata": {},
   "outputs": [],
   "source": [
    "# Train Test Split!  Set X, y\n",
    "X = my_df.drop('variety', axis=1)\n",
    "y = my_df['variety']\n",
    "\n",
    "# Convert these to numpy arrays\n",
    "X = X.values\n",
    "y = y.values\n",
    "\n",
    "y = np.array([int(x) for x in y])"
   ]
  },
  {
   "cell_type": "code",
   "execution_count": 90,
   "id": "c764cc2b-6c2c-46af-80a6-50376e2f03a2",
   "metadata": {},
   "outputs": [],
   "source": [
    "from sklearn.model_selection import train_test_split\n",
    "# Train Test Split\n",
    "X_train, X_test, y_train, y_test = train_test_split(X, y, test_size=0.2, random_state=41)\n",
    "     \n",
    "# Convert X features to float tensors\n",
    "X_train = torch.FloatTensor(X_train)\n",
    "X_test = torch.FloatTensor(X_test)\n",
    "     \n",
    "# Convert y labels to tensors long\n",
    "y_train = torch.LongTensor(y_train)\n",
    "y_test = torch.LongTensor(y_test)\n",
    "     \n",
    "# Set the criterion of model to measure the error, how far off the predictions are from the data\n",
    "criterion = nn.CrossEntropyLoss()\n",
    "\n",
    "# Choose Adam Optimizer, lr = learning rate (if error doesn't go down after a bunch of iterations (epochs), lower our learning rate)\n",
    "optimizer = torch.optim.Adam(model.parameters(), lr=0.01)"
   ]
  },
  {
   "cell_type": "code",
   "execution_count": 91,
   "id": "b1c30e73-48fa-40f7-9731-290b3dcc18bc",
   "metadata": {},
   "outputs": [
    {
     "name": "stdout",
     "output_type": "stream",
     "text": [
      "Epoch: 0 and loss: 1.128486156463623\n",
      "Epoch: 10 and loss: 1.046796441078186\n",
      "Epoch: 20 and loss: 0.8292911648750305\n",
      "Epoch: 30 and loss: 0.5007739663124084\n",
      "Epoch: 40 and loss: 0.27408313751220703\n",
      "Epoch: 50 and loss: 0.11986493319272995\n",
      "Epoch: 60 and loss: 0.05455829203128815\n",
      "Epoch: 70 and loss: 0.03560257330536842\n",
      "Epoch: 80 and loss: 0.027579661458730698\n",
      "Epoch: 90 and loss: 0.023379601538181305\n"
     ]
    }
   ],
   "source": [
    "# Train our model!\n",
    "# Epochs? (one run thru all the training data in our network)\n",
    "epochs = 100\n",
    "losses = []\n",
    "for i in range(epochs):\n",
    "  # Go forward and get a prediction\n",
    "  y_pred = model.forward(X_train) # Get predicted results\n",
    "\n",
    "  # Measure the loss/error, gonna be high at first\n",
    "  loss = criterion(y_pred, y_train) # predicted values vs the y_train\n",
    "\n",
    "  # Keep Track of our losses\n",
    "  losses.append(loss.detach().numpy())\n",
    "\n",
    "  # print every 10 epoch\n",
    "  if i % 10 == 0:\n",
    "    print(f'Epoch: {i} and loss: {loss}')\n",
    "\n",
    "  # Do some back propagation: take the error rate of forward propagation and feed it back\n",
    "  # thru the network to fine tune the weights\n",
    "  optimizer.zero_grad()\n",
    "  loss.backward()\n",
    "  optimizer.step()"
   ]
  },
  {
   "cell_type": "code",
   "execution_count": 92,
   "id": "4490d46e-d63b-4e90-a29e-5988e3bbc65d",
   "metadata": {},
   "outputs": [
    {
     "data": {
      "text/plain": [
       "Text(0.5, 0, 'Epoch')"
      ]
     },
     "execution_count": 92,
     "metadata": {},
     "output_type": "execute_result"
    },
    {
     "data": {
      "image/png": "[encoded data removed]",
      "text/plain": [
       "<Figure size 640x480 with 1 Axes>"
      ]
     },
     "metadata": {},
     "output_type": "display_data"
    }
   ],
   "source": [
    "# Graph it out!\n",
    "plt.plot(range(epochs), losses)\n",
    "plt.ylabel(\"loss/error\")\n",
    "plt.xlabel('Epoch')"
   ]
  },
  {
   "cell_type": "code",
   "execution_count": 93,
   "id": "504857a4-cd8e-4539-acdb-fb21748867c3",
   "metadata": {},
   "outputs": [],
   "source": [
    "# Evaluate Model on Test Data Set (validate model on test set)\n",
    "with torch.no_grad():  # Basically turn off back propogation\n",
    "  y_eval = model.forward(X_test) # X_test are features from our test set, y_eval will be predictions\n",
    "  loss = criterion(y_eval, y_test) # Find the loss or error"
   ]
  },
  {
   "cell_type": "code",
   "execution_count": 94,
   "id": "5b651ed6-dd5f-4626-8419-682e764f3cec",
   "metadata": {},
   "outputs": [
    {
     "data": {
      "text/plain": [
       "tensor(0.1800)"
      ]
     },
     "execution_count": 94,
     "metadata": {},
     "output_type": "execute_result"
    }
   ],
   "source": [
    "loss"
   ]
  },
  {
   "cell_type": "code",
   "execution_count": 95,
   "id": "a05da756-17e4-44be-bdfc-0e55b232b918",
   "metadata": {},
   "outputs": [
    {
     "name": "stdout",
     "output_type": "stream",
     "text": [
      "1.)  tensor([-8.4177,  4.3192,  9.3624]) \t Actual 2 = Virginica <=> \t Predicted 2 = Virginica\n",
      "2.)  tensor([-12.0569,   3.0720,  16.6593]) \t Actual 2 = Virginica <=> \t Predicted 2 = Virginica\n",
      "3.)  tensor([-12.3121,   4.1491,  15.9599]) \t Actual 2 = Virginica <=> \t Predicted 2 = Virginica\n",
      "4.)  tensor([-4.0164,  6.9381, -0.4863]) \t Actual 1 = Versicolor <=> \t Predicted 1 = Versicolor\n",
      "5.)  tensor([-10.2951,   4.4452,  12.3495]) \t Actual 2 = Virginica <=> \t Predicted 2 = Virginica\n",
      "6.)  tensor([-1.3486,  6.8102, -3.7609]) \t Actual 1 = Versicolor <=> \t Predicted 1 = Versicolor\n",
      "7.)  tensor([-7.5898,  5.2927,  7.0237]) \t Actual 2 = Virginica <=> \t Predicted 2 = Virginica\n",
      "8.)  tensor([-3.8012,  7.1034, -0.9575]) \t Actual 1 = Versicolor <=> \t Predicted 1 = Versicolor\n",
      "9.)  tensor([-8.9629,  4.8933,  9.7012]) \t Actual 2 = Virginica <=> \t Predicted 2 = Virginica\n",
      "10.)  tensor([-12.8179,   3.2133,  17.7734]) \t Actual 2 = Virginica <=> \t Predicted 2 = Virginica\n",
      "11.)  tensor([-7.3841,  5.3760,  6.6068]) \t Actual 2 = Virginica <=> \t Predicted 2 = Virginica\n",
      "12.)  tensor([ 12.2138,   1.5042, -18.7651]) \t Actual 0 = Setosa <=> \t Predicted 0 = Setosa\n",
      "13.)  tensor([ 11.0089,   1.4633, -16.9575]) \t Actual 0 = Setosa <=> \t Predicted 0 = Setosa\n",
      "14.)  tensor([-0.0120,  5.8382, -4.6090]) \t Actual 1 = Versicolor <=> \t Predicted 1 = Versicolor\n",
      "15.)  tensor([ 10.9664,   1.8149, -17.2252]) \t Actual 0 = Setosa <=> \t Predicted 0 = Setosa\n",
      "16.)  tensor([-7.0018,  5.6150,  5.7031]) \t Actual 2 = Virginica <=> \t Predicted 2 = Virginica\n",
      "17.)  tensor([ 11.2182,   1.4752, -17.3107]) \t Actual 0 = Setosa <=> \t Predicted 0 = Setosa\n",
      "18.)  tensor([-8.3238,  4.6191,  8.9110]) \t Actual 1 = Versicolor <=> \t Predicted 2 = Virginica\n",
      "19.)  tensor([ 12.4614,   1.5068, -19.0955]) \t Actual 0 = Setosa <=> \t Predicted 0 = Setosa\n",
      "20.)  tensor([ 10.1859,   1.4413, -15.7697]) \t Actual 0 = Setosa <=> \t Predicted 0 = Setosa\n",
      "21.)  tensor([-0.6672,  6.2146, -4.1110]) \t Actual 1 = Versicolor <=> \t Predicted 1 = Versicolor\n",
      "22.)  tensor([-11.5906,   3.9559,  14.9939]) \t Actual 2 = Virginica <=> \t Predicted 2 = Virginica\n",
      "23.)  tensor([ 11.1860,   1.7527, -17.4933]) \t Actual 0 = Setosa <=> \t Predicted 0 = Setosa\n",
      "24.)  tensor([ 11.7097,   1.4850, -17.9921]) \t Actual 0 = Setosa <=> \t Predicted 0 = Setosa\n",
      "25.)  tensor([-0.3340,  6.4895, -4.7470]) \t Actual 1 = Versicolor <=> \t Predicted 1 = Versicolor\n",
      "26.)  tensor([-1.4286,  6.4878, -3.3976]) \t Actual 1 = Versicolor <=> \t Predicted 1 = Versicolor\n",
      "27.)  tensor([-4.3784,  7.1272, -0.0905]) \t Actual 1 = Versicolor <=> \t Predicted 1 = Versicolor\n",
      "28.)  tensor([-1.3217,  6.5386, -3.5710]) \t Actual 1 = Versicolor <=> \t Predicted 1 = Versicolor\n",
      "29.)  tensor([ 12.1158,   1.4994, -18.6069]) \t Actual 0 = Setosa <=> \t Predicted 0 = Setosa\n",
      "30.)  tensor([-4.7357,  6.6956,  0.8704]) \t Actual 1 = Versicolor <=> \t Predicted 1 = Versicolor\n",
      "We got 29 correct!\n"
     ]
    }
   ],
   "source": [
    "correct = 0\n",
    "with torch.no_grad():\n",
    "  for i, data in enumerate(X_test):\n",
    "    y_val = model.forward(data)\n",
    "\n",
    "    if y_val.argmax().item() == 0:\n",
    "      v = \"Setosa\"\n",
    "    elif y_val.argmax().item() == 1:\n",
    "      v = 'Versicolor'\n",
    "    else:\n",
    "      v = 'Virginica'\n",
    "\n",
    "    if y_test[i] == 0:\n",
    "      x = \"Setosa\"\n",
    "    elif y_test[i] == 1:\n",
    "      x = 'Versicolor'\n",
    "    else:\n",
    "      x = 'Virginica'\n",
    "\n",
    "\n",
    "    # Will tell us what type of flower class our network thinks it is\n",
    "    print(f'{i+1}.)  {str(y_val)} \\t Actual {y_test[i]} = {x} <=> \\t Predicted {y_val.argmax().item()} = {v}')\n",
    "\n",
    "    # Correct or not\n",
    "    if y_val.argmax().item() == y_test[i]:\n",
    "      correct +=1\n",
    "\n",
    "print(f'We got {correct} correct!')\n",
    "     "
   ]
  },
  {
   "cell_type": "code",
   "execution_count": 96,
   "id": "eeeeb491-fff9-4ae8-9b8b-9f79dcfd735b",
   "metadata": {},
   "outputs": [],
   "source": [
    "new_iris = torch.tensor([4.7, 3.2, 1.3, 0.2])"
   ]
  },
  {
   "cell_type": "code",
   "execution_count": 97,
   "id": "eaf0abce-3c07-40b6-aef7-78de52fa2370",
   "metadata": {},
   "outputs": [
    {
     "name": "stdout",
     "output_type": "stream",
     "text": [
      "tensor([ 11.7097,   1.4850, -17.9921])\n"
     ]
    }
   ],
   "source": [
    "with torch.no_grad():\n",
    "  print(model(new_iris))"
   ]
  },
  {
   "cell_type": "code",
   "execution_count": 98,
   "id": "cd311fb5-7ad5-4dd5-b0a9-03cfc2b0bd64",
   "metadata": {},
   "outputs": [],
   "source": [
    "newer_iris = torch.tensor([5.9, 3.0, 5.1, 1.8])"
   ]
  },
  {
   "cell_type": "code",
   "execution_count": 99,
   "id": "3a2ae12f-ac90-4b51-b0dd-0b2174adb1e0",
   "metadata": {},
   "outputs": [
    {
     "name": "stdout",
     "output_type": "stream",
     "text": [
      "tensor([-8.8271,  4.4333,  9.9483])\n"
     ]
    }
   ],
   "source": [
    "with torch.no_grad():\n",
    "  print(model(newer_iris))"
   ]
  },
  {
   "cell_type": "code",
   "execution_count": 100,
   "id": "15f27140-b9f3-4f35-87a5-50c1ec71c162",
   "metadata": {},
   "outputs": [],
   "source": [
    "# Save our NN Model\n",
    "torch.save(model.state_dict(), 'my_really_awesome_iris_model.pt')"
   ]
  },
  {
   "cell_type": "code",
   "execution_count": 101,
   "id": "6d1f760a-407c-4546-b90a-314d7d9f8553",
   "metadata": {},
   "outputs": [
    {
     "data": {
      "text/plain": [
       "<All keys matched successfully>"
      ]
     },
     "execution_count": 101,
     "metadata": {},
     "output_type": "execute_result"
    }
   ],
   "source": [
    "# Load the Saved Model\n",
    "new_model = Model()\n",
    "new_model.load_state_dict(torch.load('my_really_awesome_iris_model.pt'))"
   ]
  },
  {
   "cell_type": "code",
   "execution_count": 102,
   "id": "7ad74173-a05b-4489-bcf5-784375ca59c3",
   "metadata": {},
   "outputs": [
    {
     "data": {
      "text/plain": [
       "Model(\n",
       "  (fc1): Linear(in_features=4, out_features=8, bias=True)\n",
       "  (fc2): Linear(in_features=8, out_features=8, bias=True)\n",
       "  (fc3): Linear(in_features=8, out_features=8, bias=True)\n",
       "  (out): Linear(in_features=8, out_features=3, bias=True)\n",
       ")"
      ]
     },
     "execution_count": 102,
     "metadata": {},
     "output_type": "execute_result"
    }
   ],
   "source": [
    "# Make sure it loaded correctly\n",
    "new_model.eval()"
   ]
  },
  {
   "cell_type": "code",
   "execution_count": 103,
   "id": "f3eddb8b-6787-403c-8dc3-5bcb937a8755",
   "metadata": {},
   "outputs": [],
   "source": [
    "new_iris_1 = torch.tensor([1.1, 2.2, 3.3, 14.4])"
   ]
  },
  {
   "cell_type": "code",
   "execution_count": 104,
   "id": "306bea4b-e7cf-4d6d-89ea-edf798f4d61f",
   "metadata": {},
   "outputs": [
    {
     "name": "stdout",
     "output_type": "stream",
     "text": [
      "tensor([-18.1282,   3.6970,  25.9642])\n"
     ]
    }
   ],
   "source": [
    "with torch.no_grad():\n",
    "  print(new_model(new_iris_1))"
   ]
  },
  {
   "cell_type": "code",
   "execution_count": null,
   "id": "2e23e154-72da-44f8-9655-438fd97d7003",
   "metadata": {},
   "outputs": [],
   "source": []
  }
 ],
 "metadata": {
  "kernelspec": {
   "display_name": "Python (model)",
   "language": "python",
   "name": "model"
  },
  "language_info": {
   "codemirror_mode": {
    "name": "ipython",
    "version": 3
   },
   "file_extension": ".py",
   "mimetype": "text/x-python",
   "name": "python",
   "nbconvert_exporter": "python",
   "pygments_lexer": "ipython3",
   "version": "3.10.12"
  }
 },
 "nbformat": 4,
 "nbformat_minor": 5
}
