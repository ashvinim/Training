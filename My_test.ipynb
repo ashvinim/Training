{
 "cells": [
  {
   "cell_type": "code",
   "execution_count": 51,
   "id": "18bc996a-f956-4e66-9bf0-9c2ecb07d2c8",
   "metadata": {},
   "outputs": [
    {
     "data": {
      "text/plain": [
       "True"
      ]
     },
     "execution_count": 51,
     "metadata": {},
     "output_type": "execute_result"
    }
   ],
   "source": [
    "import torch\n",
    "import torch.nn as nn\n",
    "import torch.nn.functional as F\n",
    "import numpy as np\n",
    "import pandas as pd\n",
    "import matplotlib.pyplot as plt\n",
    "%matplotlib inline\n",
    "\n",
    "torch.cuda.is_available()"
   ]
  },
  {
   "cell_type": "code",
   "execution_count": 61,
   "id": "ddee7cc6-a180-4970-a36a-e7cf06d14399",
   "metadata": {},
   "outputs": [],
   "source": [
    "# Create a Model Class that inherits nn.Module\n",
    "class Model(nn.Module):\n",
    "  # Input layer (4 features of the flower) -->\n",
    "  # Hidden Layer1 (number of neurons) -->\n",
    "  # H2 (n) -->\n",
    "  # output (3 classes of iris flowers)\n",
    "  def __init__(self, in_features=4, h1=8, h2=8, h3=8, out_features=3):\n",
    "    super().__init__() # instantiate our nn.Module\n",
    "    self.fc1 = nn.Linear(in_features, h1)\n",
    "    self.fc2 = nn.Linear(h1, h2)\n",
    "    self.fc3 = nn.Linear(h2, h3)\n",
    "    self.out = nn.Linear(h3, out_features)\n",
    "\n",
    "  def forward(self, x):\n",
    "    x = F.relu(self.fc1(x))\n",
    "    x = F.relu(self.fc2(x))\n",
    "    x = F.relu(self.fc3(x))\n",
    "    x = self.out(x)\n",
    "\n",
    "    return x"
   ]
  },
  {
   "cell_type": "code",
   "execution_count": 119,
   "id": "a889f1bf-6895-4ec2-8fe8-fc9f09252fb5",
   "metadata": {},
   "outputs": [
    {
     "data": {
      "text/plain": [
       "Model(\n",
       "  (fc1): Linear(in_features=4, out_features=8, bias=True)\n",
       "  (fc2): Linear(in_features=8, out_features=8, bias=True)\n",
       "  (fc3): Linear(in_features=8, out_features=8, bias=True)\n",
       "  (out): Linear(in_features=8, out_features=3, bias=True)\n",
       ")"
      ]
     },
     "execution_count": 119,
     "metadata": {},
     "output_type": "execute_result"
    }
   ],
   "source": [
    "# Load the Saved Model\n",
    "device = torch.device(\"cuda\" if torch.cuda.is_available() else \"cpu\")\n",
    "\n",
    "new_model = Model()\n",
    "new_model.to(device)\n",
    "#new_model.eval()\n",
    "\n",
    "new_model.load_state_dict(torch.load('my_really_awesome_iris_model.pt'))\n",
    "\n",
    "# Make sure it loaded correctly\n",
    "new_model.eval()"
   ]
  },
  {
   "cell_type": "code",
   "execution_count": 120,
   "id": "b208e907-3d4a-4bb1-ab9e-b14d8a247e8a",
   "metadata": {},
   "outputs": [],
   "source": [
    "new_iris_1 = torch.tensor([11.1, 112.2, 3.3, 1.4]).to(device)"
   ]
  },
  {
   "cell_type": "code",
   "execution_count": 121,
   "id": "4b106a11-5f3c-496e-b123-76a67b29b287",
   "metadata": {},
   "outputs": [
    {
     "name": "stdout",
     "output_type": "stream",
     "text": [
      "tensor([ 140.4267,    6.0317, -211.1162], device='cuda:0')\n",
      "CPU times: user 2.44 ms, sys: 3.96 ms, total: 6.39 ms\n",
      "Wall time: 5.62 ms\n"
     ]
    }
   ],
   "source": [
    "%%time\n",
    "with torch.no_grad():\n",
    "  print(new_model(new_iris_1))"
   ]
  },
  {
   "cell_type": "code",
   "execution_count": 122,
   "id": "ab6b1ed2-3869-4660-b1ee-54479b43498a",
   "metadata": {},
   "outputs": [
    {
     "data": {
      "text/plain": [
       "Model(\n",
       "  (fc1): Linear(in_features=4, out_features=8, bias=True)\n",
       "  (fc2): Linear(in_features=8, out_features=8, bias=True)\n",
       "  (fc3): Linear(in_features=8, out_features=8, bias=True)\n",
       "  (out): Linear(in_features=8, out_features=3, bias=True)\n",
       ")"
      ]
     },
     "execution_count": 122,
     "metadata": {},
     "output_type": "execute_result"
    }
   ],
   "source": [
    "# Load the Saved Model\n",
    "device = \"cpu\"\n",
    "\n",
    "new_model = Model()\n",
    "new_model.to(device)\n",
    "#new_model.eval()\n",
    "\n",
    "new_model.load_state_dict(torch.load('my_really_awesome_iris_model.pt'))\n",
    "\n",
    "# Make sure it loaded correctly\n",
    "new_model.eval()"
   ]
  },
  {
   "cell_type": "code",
   "execution_count": 123,
   "id": "960946a9-1d7e-4fcc-ad05-2a9bd156bf53",
   "metadata": {},
   "outputs": [],
   "source": [
    "new_iris_1 = torch.tensor([11.1, 112.2, 3.3, 1.4]).to(device)"
   ]
  },
  {
   "cell_type": "code",
   "execution_count": 124,
   "id": "a2910e8e-9ceb-481f-811f-6221cfdcc63e",
   "metadata": {},
   "outputs": [
    {
     "name": "stdout",
     "output_type": "stream",
     "text": [
      "tensor([ 140.4267,    6.0317, -211.1162])\n",
      "CPU times: user 5.13 ms, sys: 0 ns, total: 5.13 ms\n",
      "Wall time: 3.38 ms\n"
     ]
    }
   ],
   "source": [
    "%%time\n",
    "with torch.no_grad():\n",
    "  print(new_model(new_iris_1))"
   ]
  },
  {
   "cell_type": "code",
   "execution_count": 111,
   "id": "c9cb1da0-5552-4557-89b6-bcca3b17e362",
   "metadata": {},
   "outputs": [
    {
     "name": "stdout",
     "output_type": "stream",
     "text": [
      "1\n",
      "Versicolor\n"
     ]
    }
   ],
   "source": [
    "with torch.no_grad():\n",
    "  # Will tell us what type of flower class our network thinks it is\n",
    "  print(f'{new_iris_1.argmax().item()}')\n",
    "\n",
    "  if new_iris_1.argmax().item() == 0:\n",
    "    x = \"Setosa\"\n",
    "  elif new_iris_1.argmax().item() == 1:\n",
    "    x = 'Versicolor'\n",
    "  else:\n",
    "    x = 'Virginica'\n",
    "\n",
    "  # Will tell us what type of flower class our network thinks it is\n",
    "  print(f'{x}')"
   ]
  },
  {
   "cell_type": "code",
   "execution_count": null,
   "id": "9608bf54-43e5-4f05-9f55-23c278582701",
   "metadata": {},
   "outputs": [],
   "source": []
  }
 ],
 "metadata": {
  "kernelspec": {
   "display_name": "Python (model)",
   "language": "python",
   "name": "model"
  },
  "language_info": {
   "codemirror_mode": {
    "name": "ipython",
    "version": 3
   },
   "file_extension": ".py",
   "mimetype": "text/x-python",
   "name": "python",
   "nbconvert_exporter": "python",
   "pygments_lexer": "ipython3",
   "version": "3.10.12"
  }
 },
 "nbformat": 4,
 "nbformat_minor": 5
}
