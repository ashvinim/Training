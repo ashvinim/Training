{
 "cells": [
  {
   "cell_type": "code",
   "execution_count": 102,
   "id": "5c1d3bf6-bd29-4a80-8a35-e417ae476068",
   "metadata": {},
   "outputs": [],
   "source": [
    "import torch\n",
    "import torch.nn as nn\n",
    "import torch.nn.functional as F\n",
    "from torch.utils.data import DataLoader\n",
    "from torchvision import datasets, transforms\n",
    "from torchvision.utils import make_grid\n",
    "\n",
    "import numpy as np\n",
    "import pandas as pd\n",
    "from sklearn.metrics import confusion_matrix\n",
    "import matplotlib.pyplot as plt\n",
    "%matplotlib inline"
   ]
  },
  {
   "cell_type": "code",
   "execution_count": 103,
   "id": "15567177-9704-465f-b534-48526c86c1c4",
   "metadata": {},
   "outputs": [],
   "source": [
    "# Convert MNIST Image Files into a Tensor of 4-Dimensions (# of images, Height, Width, Color Channels)\n",
    "transform = transforms.ToTensor()"
   ]
  },
  {
   "cell_type": "code",
   "execution_count": 104,
   "id": "dedf6cf8-3415-4227-a157-eb063a49c1a2",
   "metadata": {},
   "outputs": [],
   "source": [
    "# Train Data\n",
    "train_data = datasets.MNIST(root='cnn_data', train=True, download=True, transform=transform)"
   ]
  },
  {
   "cell_type": "code",
   "execution_count": 105,
   "id": "a7e1d02e-0fc9-4937-acb2-5ffba9f7a7bd",
   "metadata": {},
   "outputs": [],
   "source": [
    "# Test Data\n",
    "test_data = datasets.MNIST(root='cnn_data', train=False, download=True, transform=transform)"
   ]
  },
  {
   "cell_type": "code",
   "execution_count": 106,
   "id": "efe934c1-e975-4f37-af52-8671479e9983",
   "metadata": {},
   "outputs": [
    {
     "data": {
      "text/plain": [
       "Dataset MNIST\n",
       "    Number of datapoints: 60000\n",
       "    Root location: cnn_data\n",
       "    Split: Train\n",
       "    StandardTransform\n",
       "Transform: ToTensor()"
      ]
     },
     "execution_count": 106,
     "metadata": {},
     "output_type": "execute_result"
    }
   ],
   "source": [
    "train_data"
   ]
  },
  {
   "cell_type": "code",
   "execution_count": 107,
   "id": "51b721e4-4686-41f7-b7eb-ad8cf941cf7f",
   "metadata": {},
   "outputs": [
    {
     "data": {
      "text/plain": [
       "Dataset MNIST\n",
       "    Number of datapoints: 10000\n",
       "    Root location: cnn_data\n",
       "    Split: Test\n",
       "    StandardTransform\n",
       "Transform: ToTensor()"
      ]
     },
     "execution_count": 107,
     "metadata": {},
     "output_type": "execute_result"
    }
   ],
   "source": [
    "test_data"
   ]
  },
  {
   "cell_type": "code",
   "execution_count": 108,
   "id": "89e6033f-8df7-4cfc-9cca-f88c79660db4",
   "metadata": {},
   "outputs": [],
   "source": [
    "# Create a small batch size for images...let's say 10\n",
    "train_loader = DataLoader(train_data, batch_size=10, shuffle=True)\n",
    "test_loader = DataLoader(test_data, batch_size=10, shuffle=False)"
   ]
  },
  {
   "cell_type": "code",
   "execution_count": 109,
   "id": "b916ccea-ccee-4d78-8245-fe7355e03125",
   "metadata": {},
   "outputs": [],
   "source": [
    "# Define Our CNN Model\n",
    "# Describe convolutional layer and what it's doing (2 convolutional layers)\n",
    "# This is just an example in the next video we'll build out the actual model\n",
    "conv1 = nn.Conv2d(1, 6 , 3, 1)\n",
    "conv2 = nn.Conv2d(6, 16, 3, 1)"
   ]
  },
  {
   "cell_type": "code",
   "execution_count": 110,
   "id": "96229e71-3d1e-4718-8af8-3323e3f737d0",
   "metadata": {},
   "outputs": [],
   "source": [
    "# Grab 1 MNIST record/image\n",
    "for i, (X_Train, y_train) in enumerate(train_data):\n",
    "  break"
   ]
  },
  {
   "cell_type": "code",
   "execution_count": 111,
   "id": "5c48789c-ca67-4805-b9e0-e74ff9eb3409",
   "metadata": {},
   "outputs": [
    {
     "data": {
      "text/plain": [
       "torch.Size([1, 28, 28])"
      ]
     },
     "execution_count": 111,
     "metadata": {},
     "output_type": "execute_result"
    }
   ],
   "source": [
    "X_Train.shape"
   ]
  },
  {
   "cell_type": "code",
   "execution_count": 112,
   "id": "9e8ae807-c57b-453a-9cf8-aed7ddfbc2dd",
   "metadata": {},
   "outputs": [],
   "source": [
    "x = X_Train.view(1,1,28,28)"
   ]
  },
  {
   "cell_type": "code",
   "execution_count": 113,
   "id": "582ab57d-7957-4d16-a9d0-3301b4e834b5",
   "metadata": {},
   "outputs": [
    {
     "data": {
      "text/plain": [
       "torch.Size([1, 1, 28, 28])"
      ]
     },
     "execution_count": 113,
     "metadata": {},
     "output_type": "execute_result"
    }
   ],
   "source": [
    "x.shape"
   ]
  },
  {
   "cell_type": "code",
   "execution_count": 114,
   "id": "f557d97a-e6b5-4cde-88e5-5670dcd79af6",
   "metadata": {},
   "outputs": [
    {
     "data": {
      "text/plain": [
       "torch.Size([1, 6, 26, 26])"
      ]
     },
     "execution_count": 114,
     "metadata": {},
     "output_type": "execute_result"
    }
   ],
   "source": [
    "# Perform our first convolution\n",
    "x = F.relu(conv1(x)) # Rectified Linear Unit for our activation function\n",
    "\n",
    "# 1 single image, 6 is the filters we asked for, 26x26\n",
    "x.shape"
   ]
  },
  {
   "cell_type": "code",
   "execution_count": 115,
   "id": "7f2bafbf-e831-4168-83a4-8047644b1364",
   "metadata": {},
   "outputs": [
    {
     "data": {
      "text/plain": [
       "torch.Size([1, 6, 13, 13])"
      ]
     },
     "execution_count": 115,
     "metadata": {},
     "output_type": "execute_result"
    }
   ],
   "source": [
    "# pass thru the pooling layer\n",
    "x = F.max_pool2d(x,2,2) # kernal of 2 and stride of 2\n",
    "     \n",
    "x.shape # 26 / 2 = 13"
   ]
  },
  {
   "cell_type": "code",
   "execution_count": 116,
   "id": "140211db-5b42-402c-8b07-030e11622bd9",
   "metadata": {},
   "outputs": [
    {
     "data": {
      "text/plain": [
       "torch.Size([1, 16, 11, 11])"
      ]
     },
     "execution_count": 116,
     "metadata": {},
     "output_type": "execute_result"
    }
   ],
   "source": [
    "# Do our second convolutional layer\n",
    "x = F.relu(conv2(x))\n",
    "     \n",
    "x.shape # Again, we didn't set padding so we lose 2 pixles around the outside of the image"
   ]
  },
  {
   "cell_type": "code",
   "execution_count": 117,
   "id": "69c754ba-fe81-4e2c-9d1b-7829ab2d923d",
   "metadata": {},
   "outputs": [
    {
     "data": {
      "text/plain": [
       "torch.Size([1, 16, 5, 5])"
      ]
     },
     "execution_count": 117,
     "metadata": {},
     "output_type": "execute_result"
    }
   ],
   "source": [
    "# Pooling layer\n",
    "x = F.max_pool2d(x,2,2)\n",
    "\n",
    "x.shape # 11 / 2 = 5.5 but we have to round down, because you can't invent data to round up"
   ]
  },
  {
   "cell_type": "code",
   "execution_count": 118,
   "id": "1ecc678a-e8dd-4f05-b633-9d9c4895c2a5",
   "metadata": {},
   "outputs": [
    {
     "data": {
      "text/plain": [
       "5.5"
      ]
     },
     "execution_count": 118,
     "metadata": {},
     "output_type": "execute_result"
    }
   ],
   "source": [
    "((28-2) / 2 - 2) / 2"
   ]
  },
  {
   "cell_type": "code",
   "execution_count": 119,
   "id": "f938e324-8dbe-480f-86b2-eeb1251c3d66",
   "metadata": {},
   "outputs": [],
   "source": [
    "# Model Class\n",
    "class ConvolutionalNetwork(nn.Module):\n",
    "  def __init__(self):\n",
    "    super().__init__()\n",
    "    self.conv1 = nn.Conv2d(1,6,3,1)\n",
    "    self.conv2 = nn.Conv2d(6,16,3,1)\n",
    "    # Fully Connected Layer\n",
    "    self.fc1 = nn.Linear(5*5*16, 120)\n",
    "    self.fc2 = nn.Linear(120, 84)\n",
    "    self.fc3 = nn.Linear(84, 10)\n",
    "\n",
    "  def forward(self, X):\n",
    "    X = F.relu(self.conv1(X))\n",
    "    X = F.max_pool2d(X,2,2) # 2x2 kernal and stride 2\n",
    "    # Second Pass\n",
    "    X = F.relu(self.conv2(X))\n",
    "    X = F.max_pool2d(X,2,2) # 2x2 kernal and stride 2\n",
    "\n",
    "    # Re-View to flatten it out\n",
    "    X = X.view(-1, 16*5*5) # negative one so that we can vary the batch size\n",
    "\n",
    "    # Fully Connected Layers\n",
    "    X = F.relu(self.fc1(X))\n",
    "    X = F.relu(self.fc2(X))\n",
    "    X = self.fc3(X)\n",
    "    return F.log_softmax(X, dim=1)"
   ]
  },
  {
   "cell_type": "code",
   "execution_count": 120,
   "id": "9fcb5cb3-3883-4bc8-93d9-0d6ba588183d",
   "metadata": {},
   "outputs": [],
   "source": [
    "# Create an Instance of our Model\n",
    "device = torch.device(\"cuda\" if torch.cuda.is_available() else \"cpu\")\n",
    "#device = \"cpu\"\n",
    "\n",
    "torch.manual_seed(41)\n",
    "model = ConvolutionalNetwork()\n",
    "model = model.to(device)"
   ]
  },
  {
   "cell_type": "code",
   "execution_count": 121,
   "id": "c0a83b2b-5e17-4d64-8491-e7653a6e60d9",
   "metadata": {},
   "outputs": [
    {
     "data": {
      "text/plain": [
       "device(type='cuda', index=0)"
      ]
     },
     "execution_count": 121,
     "metadata": {},
     "output_type": "execute_result"
    }
   ],
   "source": [
    "next(model.parameters()).device"
   ]
  },
  {
   "cell_type": "code",
   "execution_count": 122,
   "id": "6e751e52-a2ed-41c4-8661-8875abec3da7",
   "metadata": {},
   "outputs": [
    {
     "data": {
      "text/plain": [
       "ConvolutionalNetwork(\n",
       "  (conv1): Conv2d(1, 6, kernel_size=(3, 3), stride=(1, 1))\n",
       "  (conv2): Conv2d(6, 16, kernel_size=(3, 3), stride=(1, 1))\n",
       "  (fc1): Linear(in_features=400, out_features=120, bias=True)\n",
       "  (fc2): Linear(in_features=120, out_features=84, bias=True)\n",
       "  (fc3): Linear(in_features=84, out_features=10, bias=True)\n",
       ")"
      ]
     },
     "execution_count": 122,
     "metadata": {},
     "output_type": "execute_result"
    }
   ],
   "source": [
    "model.eval()"
   ]
  },
  {
   "cell_type": "code",
   "execution_count": 123,
   "id": "9e19958f-d62d-422f-914f-13ea77d537c0",
   "metadata": {},
   "outputs": [],
   "source": [
    "# Loss Function Optimizer\n",
    "criterion = nn.CrossEntropyLoss()\n",
    "optimizer = torch.optim.Adam(model.parameters(), lr=0.001) # Smaller the Learning Rate, longer its gonna take to train."
   ]
  },
  {
   "cell_type": "code",
   "execution_count": 124,
   "id": "17c8750b-b750-4809-a916-4f7d1bbb2a78",
   "metadata": {},
   "outputs": [
    {
     "name": "stdout",
     "output_type": "stream",
     "text": [
      "Epoch: 0  Batch: 600  Loss: 0.16228090226650238\n",
      "Epoch: 0  Batch: 1200  Loss: 0.1436859518289566\n",
      "Epoch: 0  Batch: 1800  Loss: 0.5350221395492554\n",
      "Epoch: 0  Batch: 2400  Loss: 0.09874939173460007\n",
      "Epoch: 0  Batch: 3000  Loss: 0.008747996762394905\n",
      "Epoch: 0  Batch: 3600  Loss: 0.36597323417663574\n",
      "Epoch: 0  Batch: 4200  Loss: 0.005636198911815882\n",
      "Epoch: 0  Batch: 4800  Loss: 0.0016124444082379341\n",
      "Epoch: 0  Batch: 5400  Loss: 0.043589092791080475\n",
      "Epoch: 0  Batch: 6000  Loss: 0.00032998353708535433\n",
      "Epoch: 1  Batch: 600  Loss: 0.004392813425511122\n",
      "Epoch: 1  Batch: 1200  Loss: 0.15629301965236664\n",
      "Epoch: 1  Batch: 1800  Loss: 0.003584187477827072\n",
      "Epoch: 1  Batch: 2400  Loss: 0.0039670392870903015\n",
      "Epoch: 1  Batch: 3000  Loss: 0.041004590690135956\n",
      "Epoch: 1  Batch: 3600  Loss: 0.4016276001930237\n",
      "Epoch: 1  Batch: 4200  Loss: 0.0376506932079792\n",
      "Epoch: 1  Batch: 4800  Loss: 0.00015720303053967655\n",
      "Epoch: 1  Batch: 5400  Loss: 0.000122533441754058\n",
      "Epoch: 1  Batch: 6000  Loss: 0.15041473507881165\n",
      "Epoch: 2  Batch: 600  Loss: 0.13292591273784637\n",
      "Epoch: 2  Batch: 1200  Loss: 0.0027522160671651363\n",
      "Epoch: 2  Batch: 1800  Loss: 0.0009248612332157791\n",
      "Epoch: 2  Batch: 2400  Loss: 0.04414527118206024\n",
      "Epoch: 2  Batch: 3000  Loss: 0.0015905570471659303\n",
      "Epoch: 2  Batch: 3600  Loss: 0.007727979216724634\n",
      "Epoch: 2  Batch: 4200  Loss: 0.01647908240556717\n",
      "Epoch: 2  Batch: 4800  Loss: 0.0008938579121604562\n",
      "Epoch: 2  Batch: 5400  Loss: 0.017194382846355438\n",
      "Epoch: 2  Batch: 6000  Loss: 0.20935706794261932\n",
      "Epoch: 3  Batch: 600  Loss: 0.008984720334410667\n",
      "Epoch: 3  Batch: 1200  Loss: 0.1689683496952057\n",
      "Epoch: 3  Batch: 1800  Loss: 0.006771729793399572\n",
      "Epoch: 3  Batch: 2400  Loss: 0.000291457079583779\n",
      "Epoch: 3  Batch: 3000  Loss: 0.0005296014714986086\n",
      "Epoch: 3  Batch: 3600  Loss: 0.006032841745764017\n",
      "Epoch: 3  Batch: 4200  Loss: 0.0022018065210431814\n",
      "Epoch: 3  Batch: 4800  Loss: 3.782309795496985e-05\n",
      "Epoch: 3  Batch: 5400  Loss: 0.028716232627630234\n",
      "Epoch: 3  Batch: 6000  Loss: 0.012476092204451561\n",
      "Epoch: 4  Batch: 600  Loss: 0.011951552703976631\n",
      "Epoch: 4  Batch: 1200  Loss: 0.0900719165802002\n",
      "Epoch: 4  Batch: 1800  Loss: 0.0016178146470338106\n",
      "Epoch: 4  Batch: 2400  Loss: 1.1682127478707116e-05\n",
      "Epoch: 4  Batch: 3000  Loss: 0.00033899108530022204\n",
      "Epoch: 4  Batch: 3600  Loss: 0.00620809243991971\n",
      "Epoch: 4  Batch: 4200  Loss: 0.0005035706562921405\n",
      "Epoch: 4  Batch: 4800  Loss: 0.004874889738857746\n",
      "Epoch: 4  Batch: 5400  Loss: 0.11842979490756989\n",
      "Epoch: 4  Batch: 6000  Loss: 0.00030460540438070893\n",
      "Training Took: 0.854837969938914 minutes!\n"
     ]
    }
   ],
   "source": [
    "import time\n",
    "start_time = time.time()\n",
    "\n",
    "# Create Variables To Tracks Things\n",
    "epochs = 5\n",
    "train_losses = []\n",
    "test_losses = []\n",
    "train_correct = []\n",
    "test_correct = []\n",
    "\n",
    "# For Loop of Epochs\n",
    "for i in range(epochs):\n",
    "  trn_corr = 0\n",
    "  tst_corr = 0\n",
    "\n",
    "  # Train\n",
    "  for b,(X_train, y_train) in enumerate(train_loader):\n",
    "    X_train = X_train.to(device)\n",
    "    y_train = y_train.to(device)\n",
    "      \n",
    "    b+=1 # start our batches at 1\n",
    "    y_pred = model(X_train) # get predicted values from the training set. Not flattened 2D\n",
    "    loss = criterion(y_pred, y_train) # how off are we? Compare the predictions to correct answers in y_train\n",
    "      \n",
    "    predicted = torch.max(y_pred.data, 1)[1] # add up the number of correct predictions. Indexed off the first point\n",
    "    batch_corr = (predicted == y_train).sum() # how many we got correct from this batch. True = 1, False=0, sum those up\n",
    "    trn_corr += batch_corr # keep track as we go along in training.\n",
    "\n",
    "    # Update our parameters\n",
    "    optimizer.zero_grad()\n",
    "    loss.backward()\n",
    "    optimizer.step()\n",
    "\n",
    "    # Print out some results\n",
    "    if b%600 == 0:\n",
    "      print(f'Epoch: {i}  Batch: {b}  Loss: {loss.item()}')\n",
    "\n",
    "  train_losses.append(loss)\n",
    "  train_correct.append(trn_corr)\n",
    "\n",
    "  # Test\n",
    "  with torch.no_grad(): #No gradient so we don't update our weights and biases with test data\n",
    "    for b,(X_test, y_test) in enumerate(test_loader):\n",
    "      X_test = X_test.to(device)\n",
    "      y_test = y_test.to(device)\n",
    "      \n",
    "      y_val = model(X_test)\n",
    "      predicted = torch.max(y_val.data, 1)[1] # Adding up correct predictions\n",
    "      tst_corr += (predicted == y_test).sum() # T=1 F=0 and sum away\n",
    "        \n",
    "  loss = criterion(y_val, y_test)\n",
    "  test_losses.append(loss)\n",
    "  test_correct.append(tst_corr)\n",
    "\n",
    "current_time = time.time()\n",
    "total = current_time - start_time\n",
    "print(f'Training Took: {total/60} minutes!')"
   ]
  },
  {
   "cell_type": "code",
   "execution_count": 125,
   "id": "a93e65e2-38b0-4c1a-9d64-0936da7299fd",
   "metadata": {},
   "outputs": [
    {
     "data": {
      "text/plain": [
       "[tensor(0.0003, device='cuda:0', grad_fn=<NllLossBackward0>),\n",
       " tensor(0.1504, device='cuda:0', grad_fn=<NllLossBackward0>),\n",
       " tensor(0.2094, device='cuda:0', grad_fn=<NllLossBackward0>),\n",
       " tensor(0.0125, device='cuda:0', grad_fn=<NllLossBackward0>),\n",
       " tensor(0.0003, device='cuda:0', grad_fn=<NllLossBackward0>)]"
      ]
     },
     "execution_count": 125,
     "metadata": {},
     "output_type": "execute_result"
    }
   ],
   "source": [
    "train_losses"
   ]
  },
  {
   "cell_type": "code",
   "execution_count": 126,
   "id": "22fe79ff-5d84-48b8-b587-e1cd39bdc824",
   "metadata": {},
   "outputs": [
    {
     "data": {
      "text/plain": [
       "[tensor(0.0027, device='cuda:0'),\n",
       " tensor(0.0007, device='cuda:0'),\n",
       " tensor(0.0015, device='cuda:0'),\n",
       " tensor(0.0091, device='cuda:0'),\n",
       " tensor(0.0008, device='cuda:0')]"
      ]
     },
     "execution_count": 126,
     "metadata": {},
     "output_type": "execute_result"
    }
   ],
   "source": [
    "test_losses"
   ]
  },
  {
   "cell_type": "code",
   "execution_count": 127,
   "id": "fe84acdd-38d4-4d14-b44c-fa79a93b2e90",
   "metadata": {},
   "outputs": [],
   "source": [
    "# Graph the loss at epoch\n",
    "train_losses = [trl.item() for trl in train_losses]\n",
    "test_losses = [tel.item() for tel in test_losses]"
   ]
  },
  {
   "cell_type": "code",
   "execution_count": 128,
   "id": "7ebc5433-46d4-465f-bbac-5cd84a482955",
   "metadata": {},
   "outputs": [
    {
     "data": {
      "text/plain": [
       "[0.00032998353708535433,\n",
       " 0.15041473507881165,\n",
       " 0.20935706794261932,\n",
       " 0.012476092204451561,\n",
       " 0.00030460540438070893]"
      ]
     },
     "execution_count": 128,
     "metadata": {},
     "output_type": "execute_result"
    }
   ],
   "source": [
    "train_losses"
   ]
  },
  {
   "cell_type": "code",
   "execution_count": 129,
   "id": "0341e4e8-045e-4f5d-8ba7-a442ef9bfaac",
   "metadata": {},
   "outputs": [
    {
     "data": {
      "text/plain": [
       "[0.0027126725763082504,\n",
       " 0.0006610665004700422,\n",
       " 0.0015265227993950248,\n",
       " 0.00912721548229456,\n",
       " 0.0008428004803135991]"
      ]
     },
     "execution_count": 129,
     "metadata": {},
     "output_type": "execute_result"
    }
   ],
   "source": [
    "test_losses"
   ]
  },
  {
   "cell_type": "code",
   "execution_count": 130,
   "id": "834bfb76-b689-4671-bc28-43dedd9fecdd",
   "metadata": {},
   "outputs": [
    {
     "data": {
      "text/plain": [
       "<matplotlib.legend.Legend at 0x7fb08de26c80>"
      ]
     },
     "execution_count": 130,
     "metadata": {},
     "output_type": "execute_result"
    },
    {
     "data": {
      "image/png": "[encoded data removed]",
      "text/plain": [
       "<Figure size 640x480 with 1 Axes>"
      ]
     },
     "metadata": {},
     "output_type": "display_data"
    }
   ],
   "source": [
    "plt.plot(train_losses, label=\"Training Loss\")\n",
    "plt.plot(test_losses, label=\"Validation Loss\")\n",
    "plt.title(\"Loss at Epoch\")\n",
    "plt.legend()"
   ]
  },
  {
   "cell_type": "code",
   "execution_count": 131,
   "id": "9960830a-6615-49d0-8ca5-57db54b64a6d",
   "metadata": {},
   "outputs": [
    {
     "data": {
      "text/plain": [
       "<matplotlib.legend.Legend at 0x7fb05c200550>"
      ]
     },
     "execution_count": 131,
     "metadata": {},
     "output_type": "execute_result"
    },
    {
     "data": {
      "image/png": "[encoded data removed]",
      "text/plain": [
       "<Figure size 640x480 with 1 Axes>"
      ]
     },
     "metadata": {},
     "output_type": "display_data"
    }
   ],
   "source": [
    "train_correct = [trl.item() for trl in train_correct]\n",
    "test_correct = [tel.item() for tel in test_correct]\n",
    "\n",
    "# graph the accuracy at the end of each epoch\n",
    "plt.plot([t/600 for t in train_correct], label=\"Training Accuracy\")\n",
    "plt.plot([t/100 for t in test_correct], label=\"Validation Accuracy\")\n",
    "plt.title(\"Accuracy at the end of each Epoch\")\n",
    "plt.legend()"
   ]
  },
  {
   "cell_type": "code",
   "execution_count": 132,
   "id": "b0651cae-fd1c-44ea-820f-2812e2c68977",
   "metadata": {},
   "outputs": [],
   "source": [
    "test_load_everything = DataLoader(test_data, batch_size=10000, shuffle=False)"
   ]
  },
  {
   "cell_type": "code",
   "execution_count": 133,
   "id": "af8c0630-e08e-4f0b-97f1-73659fe2caf9",
   "metadata": {},
   "outputs": [],
   "source": [
    "model = model.cpu()"
   ]
  },
  {
   "cell_type": "code",
   "execution_count": 134,
   "id": "de3371ac-61a6-4bdc-917a-76e55d5b1f24",
   "metadata": {},
   "outputs": [],
   "source": [
    "with torch.no_grad():\n",
    "  correct = 0\n",
    "  for X_test, y_test in test_load_everything:\n",
    "    y_val = model(X_test)\n",
    "    predicted = torch.max(y_val, 1)[1]\n",
    "    correct += (predicted == y_test).sum()"
   ]
  },
  {
   "cell_type": "code",
   "execution_count": 135,
   "id": "3056c045-32cf-42ee-944b-401d087f02bf",
   "metadata": {},
   "outputs": [
    {
     "data": {
      "text/plain": [
       "98.81"
      ]
     },
     "execution_count": 135,
     "metadata": {},
     "output_type": "execute_result"
    }
   ],
   "source": [
    "# Did for correct\n",
    "correct.item()/len(test_data)*100"
   ]
  },
  {
   "cell_type": "code",
   "execution_count": 136,
   "id": "22d34913-78c2-4319-9eed-13202a4741ea",
   "metadata": {},
   "outputs": [
    {
     "data": {
      "text/plain": [
       "(tensor([[[0.0000, 0.0000, 0.0000, 0.0000, 0.0000, 0.0000, 0.0000, 0.0000,\n",
       "           0.0000, 0.0000, 0.0000, 0.0000, 0.0000, 0.0000, 0.0000, 0.0000,\n",
       "           0.0000, 0.0000, 0.0000, 0.0000, 0.0000, 0.0000, 0.0000, 0.0000,\n",
       "           0.0000, 0.0000, 0.0000, 0.0000],\n",
       "          [0.0000, 0.0000, 0.0000, 0.0000, 0.0000, 0.0000, 0.0000, 0.0000,\n",
       "           0.0000, 0.0000, 0.0000, 0.0000, 0.0000, 0.0000, 0.0000, 0.0000,\n",
       "           0.0000, 0.0000, 0.0000, 0.0000, 0.0000, 0.0000, 0.0000, 0.0000,\n",
       "           0.0000, 0.0000, 0.0000, 0.0000],\n",
       "          [0.0000, 0.0000, 0.0000, 0.0000, 0.0000, 0.0000, 0.0000, 0.0000,\n",
       "           0.0000, 0.0000, 0.0000, 0.0000, 0.0000, 0.0000, 0.0000, 0.0000,\n",
       "           0.0000, 0.0000, 0.0000, 0.0000, 0.0000, 0.0000, 0.0000, 0.0000,\n",
       "           0.0000, 0.0000, 0.0000, 0.0000],\n",
       "          [0.0000, 0.0000, 0.0000, 0.0000, 0.0000, 0.0000, 0.0000, 0.0000,\n",
       "           0.0000, 0.0000, 0.0000, 0.0000, 0.0000, 0.0000, 0.0000, 0.0000,\n",
       "           0.0000, 0.0000, 0.0000, 0.0000, 0.0000, 0.0000, 0.0000, 0.0000,\n",
       "           0.0000, 0.0000, 0.0000, 0.0000],\n",
       "          [0.0000, 0.0000, 0.0000, 0.0000, 0.0000, 0.0000, 0.0000, 0.0000,\n",
       "           0.0000, 0.0000, 0.0000, 0.0000, 0.0000, 0.0000, 0.0000, 0.0000,\n",
       "           0.0000, 0.0000, 0.0000, 0.2039, 0.9451, 0.5961, 0.0039, 0.0000,\n",
       "           0.0000, 0.0000, 0.0000, 0.0000],\n",
       "          [0.0000, 0.0000, 0.0000, 0.0000, 0.0000, 0.0000, 0.0000, 0.0000,\n",
       "           0.0000, 0.0000, 0.0000, 0.0000, 0.0000, 0.0000, 0.0000, 0.0000,\n",
       "           0.0000, 0.0000, 0.1882, 0.9333, 0.9961, 0.9961, 0.0941, 0.0000,\n",
       "           0.0000, 0.0000, 0.0000, 0.0000],\n",
       "          [0.0000, 0.0000, 0.0000, 0.0000, 0.0000, 0.0000, 0.0000, 0.0000,\n",
       "           0.0000, 0.0000, 0.0000, 0.0000, 0.0000, 0.0000, 0.0000, 0.0000,\n",
       "           0.0000, 0.0627, 0.6314, 0.9961, 0.9961, 1.0000, 0.5569, 0.0000,\n",
       "           0.0000, 0.0000, 0.0000, 0.0000],\n",
       "          [0.0000, 0.0000, 0.0000, 0.0000, 0.0000, 0.0000, 0.0000, 0.0000,\n",
       "           0.0000, 0.0000, 0.0000, 0.0000, 0.0000, 0.0000, 0.0000, 0.0000,\n",
       "           0.0314, 0.8275, 0.9961, 0.9961, 0.9961, 1.0000, 0.2706, 0.0000,\n",
       "           0.0000, 0.0000, 0.0000, 0.0000],\n",
       "          [0.0000, 0.0000, 0.0000, 0.0000, 0.0000, 0.0000, 0.0000, 0.0000,\n",
       "           0.0000, 0.0000, 0.0000, 0.0000, 0.0000, 0.0000, 0.0000, 0.0353,\n",
       "           0.6196, 0.9961, 0.9961, 0.9961, 0.9961, 0.7412, 0.0275, 0.0000,\n",
       "           0.0000, 0.0000, 0.0000, 0.0000],\n",
       "          [0.0000, 0.0000, 0.0000, 0.0000, 0.0000, 0.0000, 0.0000, 0.0000,\n",
       "           0.0000, 0.0000, 0.0000, 0.0000, 0.0000, 0.0000, 0.0000, 0.3451,\n",
       "           0.9961, 0.9961, 0.9961, 0.9961, 0.9961, 0.5098, 0.0000, 0.0000,\n",
       "           0.0000, 0.0000, 0.0000, 0.0000],\n",
       "          [0.0000, 0.0000, 0.0000, 0.0000, 0.0000, 0.0000, 0.0000, 0.0000,\n",
       "           0.0000, 0.0000, 0.0000, 0.0000, 0.0000, 0.0000, 0.2471, 0.9176,\n",
       "           0.9961, 0.9961, 0.9961, 0.9961, 0.4196, 0.0353, 0.0000, 0.0000,\n",
       "           0.0000, 0.0000, 0.0000, 0.0000],\n",
       "          [0.0000, 0.0000, 0.0000, 0.0000, 0.0000, 0.0000, 0.0000, 0.0000,\n",
       "           0.0000, 0.0000, 0.0000, 0.0000, 0.0000, 0.0471, 0.7843, 0.9961,\n",
       "           0.9961, 0.9961, 0.9294, 0.6235, 0.0392, 0.0000, 0.0000, 0.0000,\n",
       "           0.0000, 0.0000, 0.0000, 0.0000],\n",
       "          [0.0000, 0.0000, 0.0000, 0.0000, 0.0000, 0.0000, 0.0000, 0.0000,\n",
       "           0.0000, 0.0000, 0.0000, 0.0000, 0.2510, 0.7725, 0.9961, 0.9961,\n",
       "           0.9961, 0.9961, 0.6549, 0.0000, 0.0000, 0.0000, 0.0000, 0.0000,\n",
       "           0.0000, 0.0000, 0.0000, 0.0000],\n",
       "          [0.0000, 0.0000, 0.0000, 0.0000, 0.0000, 0.0000, 0.0000, 0.0000,\n",
       "           0.0000, 0.0000, 0.0000, 0.1294, 0.9137, 0.9961, 0.9961, 0.9961,\n",
       "           0.9961, 0.9216, 0.2588, 0.2118, 0.6745, 0.0706, 0.0000, 0.0000,\n",
       "           0.0000, 0.0000, 0.0000, 0.0000],\n",
       "          [0.0000, 0.0000, 0.0000, 0.0000, 0.0000, 0.0000, 0.0000, 0.0000,\n",
       "           0.0000, 0.0000, 0.0431, 0.6314, 0.9961, 0.9961, 0.9961, 0.9961,\n",
       "           0.9961, 0.3961, 0.4392, 0.8667, 0.2980, 0.0235, 0.0000, 0.0000,\n",
       "           0.0000, 0.0000, 0.0000, 0.0000],\n",
       "          [0.0000, 0.0000, 0.0000, 0.0000, 0.0000, 0.0000, 0.0000, 0.0000,\n",
       "           0.0000, 0.0000, 0.5294, 0.9961, 0.9961, 0.9961, 0.9961, 0.9961,\n",
       "           0.9961, 0.8941, 0.5843, 0.1373, 0.0000, 0.0000, 0.0000, 0.0000,\n",
       "           0.0000, 0.0000, 0.0000, 0.0000],\n",
       "          [0.0000, 0.0000, 0.0000, 0.0000, 0.0000, 0.0000, 0.0000, 0.0000,\n",
       "           0.0000, 0.2588, 0.9294, 0.9961, 0.9961, 0.9961, 0.9961, 0.9961,\n",
       "           0.9961, 0.5843, 0.0353, 0.0000, 0.0000, 0.0000, 0.0000, 0.0000,\n",
       "           0.0000, 0.0000, 0.0000, 0.0000],\n",
       "          [0.0000, 0.0000, 0.0000, 0.0000, 0.0000, 0.0000, 0.0000, 0.0000,\n",
       "           0.2510, 0.9333, 0.9961, 0.9961, 0.9961, 0.9961, 0.9961, 0.9059,\n",
       "           0.5098, 0.0353, 0.0000, 0.0000, 0.0000, 0.0000, 0.0000, 0.0000,\n",
       "           0.0000, 0.0000, 0.0000, 0.0000],\n",
       "          [0.0000, 0.0000, 0.0000, 0.0000, 0.0000, 0.0000, 0.0000, 0.0275,\n",
       "           0.7373, 0.9961, 0.9961, 0.9961, 0.9961, 0.9961, 0.7294, 0.2235,\n",
       "           0.0000, 0.0000, 0.0000, 0.0000, 0.0000, 0.0000, 0.0000, 0.0000,\n",
       "           0.0000, 0.0000, 0.0000, 0.0000],\n",
       "          [0.0000, 0.0000, 0.0000, 0.0000, 0.0000, 0.0000, 0.0000, 0.5059,\n",
       "           0.9961, 0.9961, 0.9961, 0.9961, 0.9961, 0.7176, 0.1647, 0.0000,\n",
       "           0.0000, 0.0000, 0.0000, 0.0000, 0.0000, 0.0000, 0.0000, 0.0000,\n",
       "           0.0000, 0.0000, 0.0000, 0.0000],\n",
       "          [0.0000, 0.0000, 0.0000, 0.0000, 0.0000, 0.0000, 0.0000, 0.5608,\n",
       "           1.0000, 1.0000, 0.9961, 0.9961, 0.8196, 0.0275, 0.0000, 0.0000,\n",
       "           0.0000, 0.0000, 0.0000, 0.0000, 0.0000, 0.0000, 0.0000, 0.0000,\n",
       "           0.0000, 0.0000, 0.0000, 0.0000],\n",
       "          [0.0000, 0.0000, 0.0000, 0.0000, 0.0000, 0.0000, 0.0000, 0.5608,\n",
       "           0.9961, 0.9961, 0.9961, 0.6235, 0.0588, 0.0000, 0.0000, 0.0000,\n",
       "           0.0000, 0.0000, 0.0000, 0.0000, 0.0000, 0.0000, 0.0000, 0.0000,\n",
       "           0.0000, 0.0000, 0.0000, 0.0000],\n",
       "          [0.0000, 0.0000, 0.0000, 0.0000, 0.0000, 0.0000, 0.0000, 0.5608,\n",
       "           0.9961, 0.9961, 0.9294, 0.1843, 0.0000, 0.0000, 0.0000, 0.0000,\n",
       "           0.0000, 0.0000, 0.0000, 0.0000, 0.0000, 0.0000, 0.0000, 0.0000,\n",
       "           0.0000, 0.0000, 0.0000, 0.0000],\n",
       "          [0.0000, 0.0000, 0.0000, 0.0000, 0.0000, 0.0000, 0.0000, 0.0510,\n",
       "           0.7961, 0.9373, 0.1961, 0.0000, 0.0000, 0.0000, 0.0000, 0.0000,\n",
       "           0.0000, 0.0000, 0.0000, 0.0000, 0.0000, 0.0000, 0.0000, 0.0000,\n",
       "           0.0000, 0.0000, 0.0000, 0.0000],\n",
       "          [0.0000, 0.0000, 0.0000, 0.0000, 0.0000, 0.0000, 0.0000, 0.0000,\n",
       "           0.0000, 0.0000, 0.0000, 0.0000, 0.0000, 0.0000, 0.0000, 0.0000,\n",
       "           0.0000, 0.0000, 0.0000, 0.0000, 0.0000, 0.0000, 0.0000, 0.0000,\n",
       "           0.0000, 0.0000, 0.0000, 0.0000],\n",
       "          [0.0000, 0.0000, 0.0000, 0.0000, 0.0000, 0.0000, 0.0000, 0.0000,\n",
       "           0.0000, 0.0000, 0.0000, 0.0000, 0.0000, 0.0000, 0.0000, 0.0000,\n",
       "           0.0000, 0.0000, 0.0000, 0.0000, 0.0000, 0.0000, 0.0000, 0.0000,\n",
       "           0.0000, 0.0000, 0.0000, 0.0000],\n",
       "          [0.0000, 0.0000, 0.0000, 0.0000, 0.0000, 0.0000, 0.0000, 0.0000,\n",
       "           0.0000, 0.0000, 0.0000, 0.0000, 0.0000, 0.0000, 0.0000, 0.0000,\n",
       "           0.0000, 0.0000, 0.0000, 0.0000, 0.0000, 0.0000, 0.0000, 0.0000,\n",
       "           0.0000, 0.0000, 0.0000, 0.0000],\n",
       "          [0.0000, 0.0000, 0.0000, 0.0000, 0.0000, 0.0000, 0.0000, 0.0000,\n",
       "           0.0000, 0.0000, 0.0000, 0.0000, 0.0000, 0.0000, 0.0000, 0.0000,\n",
       "           0.0000, 0.0000, 0.0000, 0.0000, 0.0000, 0.0000, 0.0000, 0.0000,\n",
       "           0.0000, 0.0000, 0.0000, 0.0000]]]),\n",
       " 1)"
      ]
     },
     "execution_count": 136,
     "metadata": {},
     "output_type": "execute_result"
    }
   ],
   "source": [
    "test_data[1900]"
   ]
  },
  {
   "cell_type": "code",
   "execution_count": 137,
   "id": "abc09bf8-1b24-4207-b864-24db2968f5a8",
   "metadata": {},
   "outputs": [
    {
     "data": {
      "text/plain": [
       "tensor([[[0.0000, 0.0000, 0.0000, 0.0000, 0.0000, 0.0000, 0.0000, 0.0000,\n",
       "          0.0000, 0.0000, 0.0000, 0.0000, 0.0000, 0.0000, 0.0000, 0.0000,\n",
       "          0.0000, 0.0000, 0.0000, 0.0000, 0.0000, 0.0000, 0.0000, 0.0000,\n",
       "          0.0000, 0.0000, 0.0000, 0.0000],\n",
       "         [0.0000, 0.0000, 0.0000, 0.0000, 0.0000, 0.0000, 0.0000, 0.0000,\n",
       "          0.0000, 0.0000, 0.0000, 0.0000, 0.0000, 0.0000, 0.0000, 0.0000,\n",
       "          0.0000, 0.0000, 0.0000, 0.0000, 0.0000, 0.0000, 0.0000, 0.0000,\n",
       "          0.0000, 0.0000, 0.0000, 0.0000],\n",
       "         [0.0000, 0.0000, 0.0000, 0.0000, 0.0000, 0.0000, 0.0000, 0.0000,\n",
       "          0.0000, 0.0000, 0.0000, 0.0000, 0.0000, 0.0000, 0.0000, 0.0000,\n",
       "          0.0000, 0.0000, 0.0000, 0.0000, 0.0000, 0.0000, 0.0000, 0.0000,\n",
       "          0.0000, 0.0000, 0.0000, 0.0000],\n",
       "         [0.0000, 0.0000, 0.0000, 0.0000, 0.0000, 0.0000, 0.0000, 0.0000,\n",
       "          0.0000, 0.0000, 0.0000, 0.0000, 0.0000, 0.0000, 0.0000, 0.0000,\n",
       "          0.0000, 0.0000, 0.0000, 0.0000, 0.0000, 0.0000, 0.0000, 0.0000,\n",
       "          0.0000, 0.0000, 0.0000, 0.0000],\n",
       "         [0.0000, 0.0000, 0.0000, 0.0000, 0.0000, 0.0000, 0.0000, 0.0000,\n",
       "          0.0000, 0.0000, 0.0000, 0.0000, 0.0000, 0.0000, 0.0000, 0.0000,\n",
       "          0.0000, 0.0000, 0.0000, 0.2039, 0.9451, 0.5961, 0.0039, 0.0000,\n",
       "          0.0000, 0.0000, 0.0000, 0.0000],\n",
       "         [0.0000, 0.0000, 0.0000, 0.0000, 0.0000, 0.0000, 0.0000, 0.0000,\n",
       "          0.0000, 0.0000, 0.0000, 0.0000, 0.0000, 0.0000, 0.0000, 0.0000,\n",
       "          0.0000, 0.0000, 0.1882, 0.9333, 0.9961, 0.9961, 0.0941, 0.0000,\n",
       "          0.0000, 0.0000, 0.0000, 0.0000],\n",
       "         [0.0000, 0.0000, 0.0000, 0.0000, 0.0000, 0.0000, 0.0000, 0.0000,\n",
       "          0.0000, 0.0000, 0.0000, 0.0000, 0.0000, 0.0000, 0.0000, 0.0000,\n",
       "          0.0000, 0.0627, 0.6314, 0.9961, 0.9961, 1.0000, 0.5569, 0.0000,\n",
       "          0.0000, 0.0000, 0.0000, 0.0000],\n",
       "         [0.0000, 0.0000, 0.0000, 0.0000, 0.0000, 0.0000, 0.0000, 0.0000,\n",
       "          0.0000, 0.0000, 0.0000, 0.0000, 0.0000, 0.0000, 0.0000, 0.0000,\n",
       "          0.0314, 0.8275, 0.9961, 0.9961, 0.9961, 1.0000, 0.2706, 0.0000,\n",
       "          0.0000, 0.0000, 0.0000, 0.0000],\n",
       "         [0.0000, 0.0000, 0.0000, 0.0000, 0.0000, 0.0000, 0.0000, 0.0000,\n",
       "          0.0000, 0.0000, 0.0000, 0.0000, 0.0000, 0.0000, 0.0000, 0.0353,\n",
       "          0.6196, 0.9961, 0.9961, 0.9961, 0.9961, 0.7412, 0.0275, 0.0000,\n",
       "          0.0000, 0.0000, 0.0000, 0.0000],\n",
       "         [0.0000, 0.0000, 0.0000, 0.0000, 0.0000, 0.0000, 0.0000, 0.0000,\n",
       "          0.0000, 0.0000, 0.0000, 0.0000, 0.0000, 0.0000, 0.0000, 0.3451,\n",
       "          0.9961, 0.9961, 0.9961, 0.9961, 0.9961, 0.5098, 0.0000, 0.0000,\n",
       "          0.0000, 0.0000, 0.0000, 0.0000],\n",
       "         [0.0000, 0.0000, 0.0000, 0.0000, 0.0000, 0.0000, 0.0000, 0.0000,\n",
       "          0.0000, 0.0000, 0.0000, 0.0000, 0.0000, 0.0000, 0.2471, 0.9176,\n",
       "          0.9961, 0.9961, 0.9961, 0.9961, 0.4196, 0.0353, 0.0000, 0.0000,\n",
       "          0.0000, 0.0000, 0.0000, 0.0000],\n",
       "         [0.0000, 0.0000, 0.0000, 0.0000, 0.0000, 0.0000, 0.0000, 0.0000,\n",
       "          0.0000, 0.0000, 0.0000, 0.0000, 0.0000, 0.0471, 0.7843, 0.9961,\n",
       "          0.9961, 0.9961, 0.9294, 0.6235, 0.0392, 0.0000, 0.0000, 0.0000,\n",
       "          0.0000, 0.0000, 0.0000, 0.0000],\n",
       "         [0.0000, 0.0000, 0.0000, 0.0000, 0.0000, 0.0000, 0.0000, 0.0000,\n",
       "          0.0000, 0.0000, 0.0000, 0.0000, 0.2510, 0.7725, 0.9961, 0.9961,\n",
       "          0.9961, 0.9961, 0.6549, 0.0000, 0.0000, 0.0000, 0.0000, 0.0000,\n",
       "          0.0000, 0.0000, 0.0000, 0.0000],\n",
       "         [0.0000, 0.0000, 0.0000, 0.0000, 0.0000, 0.0000, 0.0000, 0.0000,\n",
       "          0.0000, 0.0000, 0.0000, 0.1294, 0.9137, 0.9961, 0.9961, 0.9961,\n",
       "          0.9961, 0.9216, 0.2588, 0.2118, 0.6745, 0.0706, 0.0000, 0.0000,\n",
       "          0.0000, 0.0000, 0.0000, 0.0000],\n",
       "         [0.0000, 0.0000, 0.0000, 0.0000, 0.0000, 0.0000, 0.0000, 0.0000,\n",
       "          0.0000, 0.0000, 0.0431, 0.6314, 0.9961, 0.9961, 0.9961, 0.9961,\n",
       "          0.9961, 0.3961, 0.4392, 0.8667, 0.2980, 0.0235, 0.0000, 0.0000,\n",
       "          0.0000, 0.0000, 0.0000, 0.0000],\n",
       "         [0.0000, 0.0000, 0.0000, 0.0000, 0.0000, 0.0000, 0.0000, 0.0000,\n",
       "          0.0000, 0.0000, 0.5294, 0.9961, 0.9961, 0.9961, 0.9961, 0.9961,\n",
       "          0.9961, 0.8941, 0.5843, 0.1373, 0.0000, 0.0000, 0.0000, 0.0000,\n",
       "          0.0000, 0.0000, 0.0000, 0.0000],\n",
       "         [0.0000, 0.0000, 0.0000, 0.0000, 0.0000, 0.0000, 0.0000, 0.0000,\n",
       "          0.0000, 0.2588, 0.9294, 0.9961, 0.9961, 0.9961, 0.9961, 0.9961,\n",
       "          0.9961, 0.5843, 0.0353, 0.0000, 0.0000, 0.0000, 0.0000, 0.0000,\n",
       "          0.0000, 0.0000, 0.0000, 0.0000],\n",
       "         [0.0000, 0.0000, 0.0000, 0.0000, 0.0000, 0.0000, 0.0000, 0.0000,\n",
       "          0.2510, 0.9333, 0.9961, 0.9961, 0.9961, 0.9961, 0.9961, 0.9059,\n",
       "          0.5098, 0.0353, 0.0000, 0.0000, 0.0000, 0.0000, 0.0000, 0.0000,\n",
       "          0.0000, 0.0000, 0.0000, 0.0000],\n",
       "         [0.0000, 0.0000, 0.0000, 0.0000, 0.0000, 0.0000, 0.0000, 0.0275,\n",
       "          0.7373, 0.9961, 0.9961, 0.9961, 0.9961, 0.9961, 0.7294, 0.2235,\n",
       "          0.0000, 0.0000, 0.0000, 0.0000, 0.0000, 0.0000, 0.0000, 0.0000,\n",
       "          0.0000, 0.0000, 0.0000, 0.0000],\n",
       "         [0.0000, 0.0000, 0.0000, 0.0000, 0.0000, 0.0000, 0.0000, 0.5059,\n",
       "          0.9961, 0.9961, 0.9961, 0.9961, 0.9961, 0.7176, 0.1647, 0.0000,\n",
       "          0.0000, 0.0000, 0.0000, 0.0000, 0.0000, 0.0000, 0.0000, 0.0000,\n",
       "          0.0000, 0.0000, 0.0000, 0.0000],\n",
       "         [0.0000, 0.0000, 0.0000, 0.0000, 0.0000, 0.0000, 0.0000, 0.5608,\n",
       "          1.0000, 1.0000, 0.9961, 0.9961, 0.8196, 0.0275, 0.0000, 0.0000,\n",
       "          0.0000, 0.0000, 0.0000, 0.0000, 0.0000, 0.0000, 0.0000, 0.0000,\n",
       "          0.0000, 0.0000, 0.0000, 0.0000],\n",
       "         [0.0000, 0.0000, 0.0000, 0.0000, 0.0000, 0.0000, 0.0000, 0.5608,\n",
       "          0.9961, 0.9961, 0.9961, 0.6235, 0.0588, 0.0000, 0.0000, 0.0000,\n",
       "          0.0000, 0.0000, 0.0000, 0.0000, 0.0000, 0.0000, 0.0000, 0.0000,\n",
       "          0.0000, 0.0000, 0.0000, 0.0000],\n",
       "         [0.0000, 0.0000, 0.0000, 0.0000, 0.0000, 0.0000, 0.0000, 0.5608,\n",
       "          0.9961, 0.9961, 0.9294, 0.1843, 0.0000, 0.0000, 0.0000, 0.0000,\n",
       "          0.0000, 0.0000, 0.0000, 0.0000, 0.0000, 0.0000, 0.0000, 0.0000,\n",
       "          0.0000, 0.0000, 0.0000, 0.0000],\n",
       "         [0.0000, 0.0000, 0.0000, 0.0000, 0.0000, 0.0000, 0.0000, 0.0510,\n",
       "          0.7961, 0.9373, 0.1961, 0.0000, 0.0000, 0.0000, 0.0000, 0.0000,\n",
       "          0.0000, 0.0000, 0.0000, 0.0000, 0.0000, 0.0000, 0.0000, 0.0000,\n",
       "          0.0000, 0.0000, 0.0000, 0.0000],\n",
       "         [0.0000, 0.0000, 0.0000, 0.0000, 0.0000, 0.0000, 0.0000, 0.0000,\n",
       "          0.0000, 0.0000, 0.0000, 0.0000, 0.0000, 0.0000, 0.0000, 0.0000,\n",
       "          0.0000, 0.0000, 0.0000, 0.0000, 0.0000, 0.0000, 0.0000, 0.0000,\n",
       "          0.0000, 0.0000, 0.0000, 0.0000],\n",
       "         [0.0000, 0.0000, 0.0000, 0.0000, 0.0000, 0.0000, 0.0000, 0.0000,\n",
       "          0.0000, 0.0000, 0.0000, 0.0000, 0.0000, 0.0000, 0.0000, 0.0000,\n",
       "          0.0000, 0.0000, 0.0000, 0.0000, 0.0000, 0.0000, 0.0000, 0.0000,\n",
       "          0.0000, 0.0000, 0.0000, 0.0000],\n",
       "         [0.0000, 0.0000, 0.0000, 0.0000, 0.0000, 0.0000, 0.0000, 0.0000,\n",
       "          0.0000, 0.0000, 0.0000, 0.0000, 0.0000, 0.0000, 0.0000, 0.0000,\n",
       "          0.0000, 0.0000, 0.0000, 0.0000, 0.0000, 0.0000, 0.0000, 0.0000,\n",
       "          0.0000, 0.0000, 0.0000, 0.0000],\n",
       "         [0.0000, 0.0000, 0.0000, 0.0000, 0.0000, 0.0000, 0.0000, 0.0000,\n",
       "          0.0000, 0.0000, 0.0000, 0.0000, 0.0000, 0.0000, 0.0000, 0.0000,\n",
       "          0.0000, 0.0000, 0.0000, 0.0000, 0.0000, 0.0000, 0.0000, 0.0000,\n",
       "          0.0000, 0.0000, 0.0000, 0.0000]]])"
      ]
     },
     "execution_count": 137,
     "metadata": {},
     "output_type": "execute_result"
    }
   ],
   "source": [
    "# Grab just the data\n",
    "test_data[1900][0]"
   ]
  },
  {
   "cell_type": "code",
   "execution_count": 138,
   "id": "b417b23f-6b86-4a95-89ca-b69978318149",
   "metadata": {},
   "outputs": [
    {
     "data": {
      "text/plain": [
       "tensor([[0.0000, 0.0000, 0.0000, 0.0000, 0.0000, 0.0000, 0.0000, 0.0000, 0.0000,\n",
       "         0.0000, 0.0000, 0.0000, 0.0000, 0.0000, 0.0000, 0.0000, 0.0000, 0.0000,\n",
       "         0.0000, 0.0000, 0.0000, 0.0000, 0.0000, 0.0000, 0.0000, 0.0000, 0.0000,\n",
       "         0.0000],\n",
       "        [0.0000, 0.0000, 0.0000, 0.0000, 0.0000, 0.0000, 0.0000, 0.0000, 0.0000,\n",
       "         0.0000, 0.0000, 0.0000, 0.0000, 0.0000, 0.0000, 0.0000, 0.0000, 0.0000,\n",
       "         0.0000, 0.0000, 0.0000, 0.0000, 0.0000, 0.0000, 0.0000, 0.0000, 0.0000,\n",
       "         0.0000],\n",
       "        [0.0000, 0.0000, 0.0000, 0.0000, 0.0000, 0.0000, 0.0000, 0.0000, 0.0000,\n",
       "         0.0000, 0.0000, 0.0000, 0.0000, 0.0000, 0.0000, 0.0000, 0.0000, 0.0000,\n",
       "         0.0000, 0.0000, 0.0000, 0.0000, 0.0000, 0.0000, 0.0000, 0.0000, 0.0000,\n",
       "         0.0000],\n",
       "        [0.0000, 0.0000, 0.0000, 0.0000, 0.0000, 0.0000, 0.0000, 0.0000, 0.0000,\n",
       "         0.0000, 0.0000, 0.0000, 0.0000, 0.0000, 0.0000, 0.0000, 0.0000, 0.0000,\n",
       "         0.0000, 0.0000, 0.0000, 0.0000, 0.0000, 0.0000, 0.0000, 0.0000, 0.0000,\n",
       "         0.0000],\n",
       "        [0.0000, 0.0000, 0.0000, 0.0000, 0.0000, 0.0000, 0.0000, 0.0000, 0.0000,\n",
       "         0.0000, 0.0000, 0.0000, 0.0000, 0.0000, 0.0000, 0.0000, 0.0000, 0.0000,\n",
       "         0.0000, 0.2039, 0.9451, 0.5961, 0.0039, 0.0000, 0.0000, 0.0000, 0.0000,\n",
       "         0.0000],\n",
       "        [0.0000, 0.0000, 0.0000, 0.0000, 0.0000, 0.0000, 0.0000, 0.0000, 0.0000,\n",
       "         0.0000, 0.0000, 0.0000, 0.0000, 0.0000, 0.0000, 0.0000, 0.0000, 0.0000,\n",
       "         0.1882, 0.9333, 0.9961, 0.9961, 0.0941, 0.0000, 0.0000, 0.0000, 0.0000,\n",
       "         0.0000],\n",
       "        [0.0000, 0.0000, 0.0000, 0.0000, 0.0000, 0.0000, 0.0000, 0.0000, 0.0000,\n",
       "         0.0000, 0.0000, 0.0000, 0.0000, 0.0000, 0.0000, 0.0000, 0.0000, 0.0627,\n",
       "         0.6314, 0.9961, 0.9961, 1.0000, 0.5569, 0.0000, 0.0000, 0.0000, 0.0000,\n",
       "         0.0000],\n",
       "        [0.0000, 0.0000, 0.0000, 0.0000, 0.0000, 0.0000, 0.0000, 0.0000, 0.0000,\n",
       "         0.0000, 0.0000, 0.0000, 0.0000, 0.0000, 0.0000, 0.0000, 0.0314, 0.8275,\n",
       "         0.9961, 0.9961, 0.9961, 1.0000, 0.2706, 0.0000, 0.0000, 0.0000, 0.0000,\n",
       "         0.0000],\n",
       "        [0.0000, 0.0000, 0.0000, 0.0000, 0.0000, 0.0000, 0.0000, 0.0000, 0.0000,\n",
       "         0.0000, 0.0000, 0.0000, 0.0000, 0.0000, 0.0000, 0.0353, 0.6196, 0.9961,\n",
       "         0.9961, 0.9961, 0.9961, 0.7412, 0.0275, 0.0000, 0.0000, 0.0000, 0.0000,\n",
       "         0.0000],\n",
       "        [0.0000, 0.0000, 0.0000, 0.0000, 0.0000, 0.0000, 0.0000, 0.0000, 0.0000,\n",
       "         0.0000, 0.0000, 0.0000, 0.0000, 0.0000, 0.0000, 0.3451, 0.9961, 0.9961,\n",
       "         0.9961, 0.9961, 0.9961, 0.5098, 0.0000, 0.0000, 0.0000, 0.0000, 0.0000,\n",
       "         0.0000],\n",
       "        [0.0000, 0.0000, 0.0000, 0.0000, 0.0000, 0.0000, 0.0000, 0.0000, 0.0000,\n",
       "         0.0000, 0.0000, 0.0000, 0.0000, 0.0000, 0.2471, 0.9176, 0.9961, 0.9961,\n",
       "         0.9961, 0.9961, 0.4196, 0.0353, 0.0000, 0.0000, 0.0000, 0.0000, 0.0000,\n",
       "         0.0000],\n",
       "        [0.0000, 0.0000, 0.0000, 0.0000, 0.0000, 0.0000, 0.0000, 0.0000, 0.0000,\n",
       "         0.0000, 0.0000, 0.0000, 0.0000, 0.0471, 0.7843, 0.9961, 0.9961, 0.9961,\n",
       "         0.9294, 0.6235, 0.0392, 0.0000, 0.0000, 0.0000, 0.0000, 0.0000, 0.0000,\n",
       "         0.0000],\n",
       "        [0.0000, 0.0000, 0.0000, 0.0000, 0.0000, 0.0000, 0.0000, 0.0000, 0.0000,\n",
       "         0.0000, 0.0000, 0.0000, 0.2510, 0.7725, 0.9961, 0.9961, 0.9961, 0.9961,\n",
       "         0.6549, 0.0000, 0.0000, 0.0000, 0.0000, 0.0000, 0.0000, 0.0000, 0.0000,\n",
       "         0.0000],\n",
       "        [0.0000, 0.0000, 0.0000, 0.0000, 0.0000, 0.0000, 0.0000, 0.0000, 0.0000,\n",
       "         0.0000, 0.0000, 0.1294, 0.9137, 0.9961, 0.9961, 0.9961, 0.9961, 0.9216,\n",
       "         0.2588, 0.2118, 0.6745, 0.0706, 0.0000, 0.0000, 0.0000, 0.0000, 0.0000,\n",
       "         0.0000],\n",
       "        [0.0000, 0.0000, 0.0000, 0.0000, 0.0000, 0.0000, 0.0000, 0.0000, 0.0000,\n",
       "         0.0000, 0.0431, 0.6314, 0.9961, 0.9961, 0.9961, 0.9961, 0.9961, 0.3961,\n",
       "         0.4392, 0.8667, 0.2980, 0.0235, 0.0000, 0.0000, 0.0000, 0.0000, 0.0000,\n",
       "         0.0000],\n",
       "        [0.0000, 0.0000, 0.0000, 0.0000, 0.0000, 0.0000, 0.0000, 0.0000, 0.0000,\n",
       "         0.0000, 0.5294, 0.9961, 0.9961, 0.9961, 0.9961, 0.9961, 0.9961, 0.8941,\n",
       "         0.5843, 0.1373, 0.0000, 0.0000, 0.0000, 0.0000, 0.0000, 0.0000, 0.0000,\n",
       "         0.0000],\n",
       "        [0.0000, 0.0000, 0.0000, 0.0000, 0.0000, 0.0000, 0.0000, 0.0000, 0.0000,\n",
       "         0.2588, 0.9294, 0.9961, 0.9961, 0.9961, 0.9961, 0.9961, 0.9961, 0.5843,\n",
       "         0.0353, 0.0000, 0.0000, 0.0000, 0.0000, 0.0000, 0.0000, 0.0000, 0.0000,\n",
       "         0.0000],\n",
       "        [0.0000, 0.0000, 0.0000, 0.0000, 0.0000, 0.0000, 0.0000, 0.0000, 0.2510,\n",
       "         0.9333, 0.9961, 0.9961, 0.9961, 0.9961, 0.9961, 0.9059, 0.5098, 0.0353,\n",
       "         0.0000, 0.0000, 0.0000, 0.0000, 0.0000, 0.0000, 0.0000, 0.0000, 0.0000,\n",
       "         0.0000],\n",
       "        [0.0000, 0.0000, 0.0000, 0.0000, 0.0000, 0.0000, 0.0000, 0.0275, 0.7373,\n",
       "         0.9961, 0.9961, 0.9961, 0.9961, 0.9961, 0.7294, 0.2235, 0.0000, 0.0000,\n",
       "         0.0000, 0.0000, 0.0000, 0.0000, 0.0000, 0.0000, 0.0000, 0.0000, 0.0000,\n",
       "         0.0000],\n",
       "        [0.0000, 0.0000, 0.0000, 0.0000, 0.0000, 0.0000, 0.0000, 0.5059, 0.9961,\n",
       "         0.9961, 0.9961, 0.9961, 0.9961, 0.7176, 0.1647, 0.0000, 0.0000, 0.0000,\n",
       "         0.0000, 0.0000, 0.0000, 0.0000, 0.0000, 0.0000, 0.0000, 0.0000, 0.0000,\n",
       "         0.0000],\n",
       "        [0.0000, 0.0000, 0.0000, 0.0000, 0.0000, 0.0000, 0.0000, 0.5608, 1.0000,\n",
       "         1.0000, 0.9961, 0.9961, 0.8196, 0.0275, 0.0000, 0.0000, 0.0000, 0.0000,\n",
       "         0.0000, 0.0000, 0.0000, 0.0000, 0.0000, 0.0000, 0.0000, 0.0000, 0.0000,\n",
       "         0.0000],\n",
       "        [0.0000, 0.0000, 0.0000, 0.0000, 0.0000, 0.0000, 0.0000, 0.5608, 0.9961,\n",
       "         0.9961, 0.9961, 0.6235, 0.0588, 0.0000, 0.0000, 0.0000, 0.0000, 0.0000,\n",
       "         0.0000, 0.0000, 0.0000, 0.0000, 0.0000, 0.0000, 0.0000, 0.0000, 0.0000,\n",
       "         0.0000],\n",
       "        [0.0000, 0.0000, 0.0000, 0.0000, 0.0000, 0.0000, 0.0000, 0.5608, 0.9961,\n",
       "         0.9961, 0.9294, 0.1843, 0.0000, 0.0000, 0.0000, 0.0000, 0.0000, 0.0000,\n",
       "         0.0000, 0.0000, 0.0000, 0.0000, 0.0000, 0.0000, 0.0000, 0.0000, 0.0000,\n",
       "         0.0000],\n",
       "        [0.0000, 0.0000, 0.0000, 0.0000, 0.0000, 0.0000, 0.0000, 0.0510, 0.7961,\n",
       "         0.9373, 0.1961, 0.0000, 0.0000, 0.0000, 0.0000, 0.0000, 0.0000, 0.0000,\n",
       "         0.0000, 0.0000, 0.0000, 0.0000, 0.0000, 0.0000, 0.0000, 0.0000, 0.0000,\n",
       "         0.0000],\n",
       "        [0.0000, 0.0000, 0.0000, 0.0000, 0.0000, 0.0000, 0.0000, 0.0000, 0.0000,\n",
       "         0.0000, 0.0000, 0.0000, 0.0000, 0.0000, 0.0000, 0.0000, 0.0000, 0.0000,\n",
       "         0.0000, 0.0000, 0.0000, 0.0000, 0.0000, 0.0000, 0.0000, 0.0000, 0.0000,\n",
       "         0.0000],\n",
       "        [0.0000, 0.0000, 0.0000, 0.0000, 0.0000, 0.0000, 0.0000, 0.0000, 0.0000,\n",
       "         0.0000, 0.0000, 0.0000, 0.0000, 0.0000, 0.0000, 0.0000, 0.0000, 0.0000,\n",
       "         0.0000, 0.0000, 0.0000, 0.0000, 0.0000, 0.0000, 0.0000, 0.0000, 0.0000,\n",
       "         0.0000],\n",
       "        [0.0000, 0.0000, 0.0000, 0.0000, 0.0000, 0.0000, 0.0000, 0.0000, 0.0000,\n",
       "         0.0000, 0.0000, 0.0000, 0.0000, 0.0000, 0.0000, 0.0000, 0.0000, 0.0000,\n",
       "         0.0000, 0.0000, 0.0000, 0.0000, 0.0000, 0.0000, 0.0000, 0.0000, 0.0000,\n",
       "         0.0000],\n",
       "        [0.0000, 0.0000, 0.0000, 0.0000, 0.0000, 0.0000, 0.0000, 0.0000, 0.0000,\n",
       "         0.0000, 0.0000, 0.0000, 0.0000, 0.0000, 0.0000, 0.0000, 0.0000, 0.0000,\n",
       "         0.0000, 0.0000, 0.0000, 0.0000, 0.0000, 0.0000, 0.0000, 0.0000, 0.0000,\n",
       "         0.0000]])"
      ]
     },
     "execution_count": 138,
     "metadata": {},
     "output_type": "execute_result"
    }
   ],
   "source": [
    "# Reshape it\n",
    "test_data[1900][0].reshape(28,28)"
   ]
  },
  {
   "cell_type": "code",
   "execution_count": 139,
   "id": "cdc98f2e-1d84-4e64-8542-0fd086edbe23",
   "metadata": {},
   "outputs": [
    {
     "data": {
      "text/plain": [
       "<matplotlib.image.AxesImage at 0x7fb05c22ee00>"
      ]
     },
     "execution_count": 139,
     "metadata": {},
     "output_type": "execute_result"
    },
    {
     "data": {
      "image/png": "[encoded data removed]",
      "text/plain": [
       "<Figure size 640x480 with 1 Axes>"
      ]
     },
     "metadata": {},
     "output_type": "display_data"
    }
   ],
   "source": [
    "# Show the image\n",
    "plt.imshow(test_data[1900][0].reshape(28,28))"
   ]
  },
  {
   "cell_type": "code",
   "execution_count": 146,
   "id": "1bcd0cfe-4d76-4c4d-836d-3b3325c81d6b",
   "metadata": {},
   "outputs": [],
   "source": [
    "# Pass the image thru our model\n",
    "model.eval()\n",
    "with torch.no_grad():\n",
    "  new_prediction = model(test_data[2000][0].view(1,1,28,28)) # batch size of 1, 1 color channel, 28x28 image"
   ]
  },
  {
   "cell_type": "code",
   "execution_count": 147,
   "id": "431e6e79-76b7-49c5-99d7-f7dc1c866564",
   "metadata": {},
   "outputs": [
    {
     "data": {
      "text/plain": [
       "ConvolutionalNetwork(\n",
       "  (conv1): Conv2d(1, 6, kernel_size=(3, 3), stride=(1, 1))\n",
       "  (conv2): Conv2d(6, 16, kernel_size=(3, 3), stride=(1, 1))\n",
       "  (fc1): Linear(in_features=400, out_features=120, bias=True)\n",
       "  (fc2): Linear(in_features=120, out_features=84, bias=True)\n",
       "  (fc3): Linear(in_features=84, out_features=10, bias=True)\n",
       ")"
      ]
     },
     "execution_count": 147,
     "metadata": {},
     "output_type": "execute_result"
    }
   ],
   "source": [
    "model.eval()"
   ]
  },
  {
   "cell_type": "code",
   "execution_count": 148,
   "id": "ff1a2678-d2c3-4758-86b3-5612829053c0",
   "metadata": {},
   "outputs": [
    {
     "data": {
      "text/plain": [
       "tensor([[-1.1690e+01, -1.9177e+01, -1.9023e+01, -1.9078e+01, -2.0815e+01,\n",
       "         -1.6332e+01, -2.0504e-05, -2.8944e+01, -1.1327e+01, -2.1495e+01]])"
      ]
     },
     "execution_count": 148,
     "metadata": {},
     "output_type": "execute_result"
    }
   ],
   "source": [
    "# Check the new prediction...get probabilities\n",
    "new_prediction"
   ]
  },
  {
   "cell_type": "code",
   "execution_count": 149,
   "id": "abf0fcc8-ec69-400c-8a82-109b70327163",
   "metadata": {},
   "outputs": [
    {
     "data": {
      "text/plain": [
       "tensor([[-1.1690e+01, -1.9177e+01, -1.9023e+01, -1.9078e+01, -2.0815e+01,\n",
       "         -1.6332e+01, -2.0504e-05, -2.8944e+01, -1.1327e+01, -2.1495e+01]])"
      ]
     },
     "execution_count": 149,
     "metadata": {},
     "output_type": "execute_result"
    }
   ],
   "source": [
    "new_prediction"
   ]
  },
  {
   "cell_type": "code",
   "execution_count": 150,
   "id": "e08f878a-f118-4065-b264-453449c5e0bf",
   "metadata": {},
   "outputs": [
    {
     "data": {
      "text/plain": [
       "tensor(6)"
      ]
     },
     "execution_count": 150,
     "metadata": {},
     "output_type": "execute_result"
    }
   ],
   "source": [
    "new_prediction.argmax()"
   ]
  },
  {
   "cell_type": "code",
   "execution_count": 151,
   "id": "7398759d-3a79-4c9b-aeaf-7301e533ef79",
   "metadata": {},
   "outputs": [],
   "source": [
    "# Save our NN Model\n",
    "torch.save(model.state_dict(), 'my_really_awesome_mnist_model.pt')"
   ]
  },
  {
   "cell_type": "code",
   "execution_count": null,
   "id": "43bae5e6-07fc-4db3-82da-29ba45a1b573",
   "metadata": {},
   "outputs": [],
   "source": []
  }
 ],
 "metadata": {
  "kernelspec": {
   "display_name": "Python (model)",
   "language": "python",
   "name": "model"
  },
  "language_info": {
   "codemirror_mode": {
    "name": "ipython",
    "version": 3
   },
   "file_extension": ".py",
   "mimetype": "text/x-python",
   "name": "python",
   "nbconvert_exporter": "python",
   "pygments_lexer": "ipython3",
   "version": "3.10.12"
  }
 },
 "nbformat": 4,
 "nbformat_minor": 5
}
